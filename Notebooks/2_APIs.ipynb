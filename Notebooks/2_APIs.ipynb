{
 "cells": [
  {
   "cell_type": "code",
   "execution_count": 65,
   "id": "042bd800",
   "metadata": {},
   "outputs": [],
   "source": [
    "from dotenv import load_dotenv\n",
    "import os\n",
    "import pandas as pd\n",
    "import requests\n",
    "import sys\n",
    "sys.path.append('/mnt/c/Users/cleon/Documents/CAL_CAL/ironhack/Proyectos/Headquarters-Hunt/src')\n",
    "import apifunctions as af\n",
    "from pymongo import MongoClient\n",
    "import json\n",
    "import geopandas as gpd\n",
    "from cartoframes.viz import Map, Layer, popup_element\n",
    "import shapely.geometry\n",
    "from pymongo import GEOSPHERE"
   ]
  },
  {
   "cell_type": "code",
   "execution_count": 66,
   "id": "61961094",
   "metadata": {},
   "outputs": [
    {
     "data": {
      "text/plain": [
       "True"
      ]
     },
     "execution_count": 66,
     "metadata": {},
     "output_type": "execute_result"
    }
   ],
   "source": [
    "load_dotenv()"
   ]
  },
  {
   "cell_type": "code",
   "execution_count": 67,
   "id": "6b00f4e1",
   "metadata": {},
   "outputs": [],
   "source": [
    "client_id = os.getenv(\"tok1\")\n",
    "client_secret = os.getenv(\"tok2\")"
   ]
  },
  {
   "cell_type": "code",
   "execution_count": 68,
   "id": "bcbccfdd",
   "metadata": {},
   "outputs": [],
   "source": [
    "sim_comp = pd.read_csv('../data/similarcompanies.csv')"
   ]
  },
  {
   "cell_type": "code",
   "execution_count": 70,
   "id": "1a031716",
   "metadata": {},
   "outputs": [],
   "source": [
    "cities = {\n",
    "    'Vancouver': [sim_comp['latitude'][0], sim_comp['longitude'][0]],\n",
    "    'BeverlyH' : [sim_comp['latitude'][1], sim_comp['longitude'][1]],\n",
    "    'Irvine': [sim_comp['latitude'][2], sim_comp['longitude'][2]]\n",
    "}"
   ]
  },
  {
   "cell_type": "code",
   "execution_count": 71,
   "id": "400e25dd",
   "metadata": {},
   "outputs": [],
   "source": [
    "techstartups = '4bf58dd8d48988d125941735'\n",
    "vegans = '4bf58dd8d48988d1d3941735'\n",
    "airport = '4bf58dd8d48988d1ed931735'\n",
    "designstudio = '4bf58dd8d48988d1f4941735'\n",
    "elemschool = '4f4533804b9074f6e4fb0105'\n",
    "bar = '4bf58dd8d48988d116941735'\n",
    "basketstad = '4bf58dd8d48988d18b941735'\n",
    "\n",
    "venues = [techstartups, vegans, airport, designstudio, elemschool, bar, basketstad]"
   ]
  },
  {
   "cell_type": "code",
   "execution_count": 72,
   "id": "292f7b38",
   "metadata": {},
   "outputs": [],
   "source": [
    "Vancouver = []\n",
    "BeverlyH = []\n",
    "Irvine = []\n",
    "radius = 2000\n",
    "\n",
    "for k,v in cities.items():\n",
    "    if k == 'Vancouver':\n",
    "        for cat in venues:\n",
    "            Vancouver.append(af.foursquare(v[0],v[1], cat,radius))\n",
    "        Vancouver.append(af.foursquarequery(v[0],v[1], 'Starbucks',radius))\n",
    "    elif k == 'BeverlyH':\n",
    "        for cat in venues:\n",
    "            BeverlyH.append(af.foursquare(v[0],v[1], cat,radius))\n",
    "        BeverlyH.append(af.foursquarequery(v[0],v[1], 'Starbucks',radius))\n",
    "    elif k == 'Irvine':\n",
    "        for cat in venues:\n",
    "            Irvine.append(af.foursquare(v[0],v[1], cat,5000))\n",
    "        Irvine.append(af.foursquarequery(v[0],v[1], 'Starbucks',radius))"
   ]
  },
  {
   "cell_type": "markdown",
   "id": "a0fcf528",
   "metadata": {},
   "source": [
    "## Now we transform this data to obtain just the parameters we need: Name, location (latitude and longitud) and category"
   ]
  },
  {
   "cell_type": "code",
   "execution_count": 73,
   "id": "42ec004d",
   "metadata": {},
   "outputs": [],
   "source": [
    "Vancmongo = []\n",
    "\n",
    "for i in Vancouver:\n",
    "    Vancmongo.append(af.extraetodo(i))\n",
    "Vancmongo = [i for lista in Vancmongo for i in lista]"
   ]
  },
  {
   "cell_type": "code",
   "execution_count": 74,
   "id": "88efb974",
   "metadata": {},
   "outputs": [],
   "source": [
    "Bevmongo = []\n",
    "\n",
    "for i in BeverlyH:\n",
    "    Bevmongo.append(af.extraetodo(i))\n",
    "Bevmongo = [i for lista in Bevmongo  for i in lista]"
   ]
  },
  {
   "cell_type": "code",
   "execution_count": 75,
   "id": "db3c6ba7",
   "metadata": {},
   "outputs": [],
   "source": [
    "Irvmongo = []\n",
    "\n",
    "for i in Irvine:\n",
    "    Irvmongo.append(af.extraetodo(i))\n",
    "Irvmongo = [i for lista in Irvmongo  for i in lista]"
   ]
  },
  {
   "cell_type": "markdown",
   "id": "3ff4a8be",
   "metadata": {},
   "source": [
    "## Now, we export the data of each city to a collection in Mongo\n"
   ]
  },
  {
   "cell_type": "code",
   "execution_count": 52,
   "id": "c32ab02f",
   "metadata": {},
   "outputs": [],
   "source": [
    "client = MongoClient(\"localhost:27017\")\n",
    "db = client.get_database(\"Headquarters\")\n"
   ]
  },
  {
   "cell_type": "code",
   "execution_count": 76,
   "id": "39c9c9c8",
   "metadata": {},
   "outputs": [],
   "source": [
    "vanc = pd.DataFrame(Vancmongo)\n",
    "bev = pd.DataFrame(Bevmongo)\n",
    "irv = pd.DataFrame(Irvmongo)"
   ]
  },
  {
   "cell_type": "markdown",
   "id": "2e130799",
   "metadata": {},
   "source": [
    "### Vancouver"
   ]
  },
  {
   "cell_type": "code",
   "execution_count": 40,
   "id": "80dcd31a",
   "metadata": {
    "scrolled": true
   },
   "outputs": [],
   "source": [
    "gdfvan = gpd.GeoDataFrame(vanc, geometry=gpd.points_from_xy(vanc.longitud, vanc.latitud))"
   ]
  },
  {
   "cell_type": "code",
   "execution_count": 42,
   "id": "8b0e831d",
   "metadata": {},
   "outputs": [],
   "source": [
    "gdfvan.drop('location', axis=1,inplace=True)"
   ]
  },
  {
   "cell_type": "code",
   "execution_count": 46,
   "id": "9563ac0f",
   "metadata": {},
   "outputs": [
    {
     "name": "stderr",
     "output_type": "stream",
     "text": [
      "/home/cleonortiz/anaconda3/lib/python3.8/site-packages/geopandas/geodataframe.py:1350: UserWarning: Geometry column does not contain geometry.\n",
      "  warnings.warn(\"Geometry column does not contain geometry.\")\n"
     ]
    }
   ],
   "source": [
    "gdfvan['geometry']=gdfvan['geometry'].apply(lambda x:shapely.geometry.mapping(x))\n",
    "gdfvan_dic = gdfvan.to_dict(orient=\"records\")\n"
   ]
  },
  {
   "cell_type": "code",
   "execution_count": 56,
   "id": "dd156407",
   "metadata": {},
   "outputs": [
    {
     "data": {
      "text/plain": [
       "<pymongo.results.InsertManyResult at 0x7fdd14d02480>"
      ]
     },
     "execution_count": 56,
     "metadata": {},
     "output_type": "execute_result"
    }
   ],
   "source": [
    "db.Vancouver.create_index([(\"geometry\", GEOSPHERE)])\n",
    "db.Vancouver.insert_many(gdfvan_dic)"
   ]
  },
  {
   "cell_type": "markdown",
   "id": "b8626232",
   "metadata": {},
   "source": [
    "### Beverly Hills"
   ]
  },
  {
   "cell_type": "code",
   "execution_count": 47,
   "id": "bcc51d96",
   "metadata": {},
   "outputs": [],
   "source": [
    "gdfbev = gpd.GeoDataFrame(bev, geometry=gpd.points_from_xy(bev.longitud, bev.latitud))\n",
    "gdfbev.drop('location', axis=1,inplace=True)\n"
   ]
  },
  {
   "cell_type": "code",
   "execution_count": 57,
   "id": "918f82e9",
   "metadata": {},
   "outputs": [
    {
     "name": "stderr",
     "output_type": "stream",
     "text": [
      "/home/cleonortiz/anaconda3/lib/python3.8/site-packages/geopandas/geodataframe.py:1350: UserWarning: Geometry column does not contain geometry.\n",
      "  warnings.warn(\"Geometry column does not contain geometry.\")\n"
     ]
    }
   ],
   "source": [
    "gdfbev['geometry']=gdfbev['geometry'].apply(lambda x:shapely.geometry.mapping(x))\n",
    "gdfbev_dic = gdfbev.to_dict(orient=\"records\")"
   ]
  },
  {
   "cell_type": "code",
   "execution_count": 62,
   "id": "28fdf045",
   "metadata": {},
   "outputs": [
    {
     "data": {
      "text/plain": [
       "<pymongo.results.InsertManyResult at 0x7fdd12fa1180>"
      ]
     },
     "execution_count": 62,
     "metadata": {},
     "output_type": "execute_result"
    }
   ],
   "source": [
    "db.BeverlyHills.create_index([(\"geometry\", GEOSPHERE)])\n",
    "db.BeverlyHills.insert_many(gdfbev_dic)"
   ]
  },
  {
   "cell_type": "markdown",
   "id": "959aecbd",
   "metadata": {},
   "source": [
    "### Irvine"
   ]
  },
  {
   "cell_type": "code",
   "execution_count": 80,
   "id": "9d2eafb7",
   "metadata": {},
   "outputs": [],
   "source": [
    "gdfirv = gpd.GeoDataFrame(irv, geometry=gpd.points_from_xy(irv.longitud, irv.latitud))\n",
    "gdfirv.drop('location', axis=1,inplace=True)\n"
   ]
  },
  {
   "cell_type": "code",
   "execution_count": 63,
   "id": "4eb9713a",
   "metadata": {},
   "outputs": [
    {
     "name": "stderr",
     "output_type": "stream",
     "text": [
      "/home/cleonortiz/anaconda3/lib/python3.8/site-packages/geopandas/geodataframe.py:1350: UserWarning: Geometry column does not contain geometry.\n",
      "  warnings.warn(\"Geometry column does not contain geometry.\")\n"
     ]
    }
   ],
   "source": [
    "gdfirv['geometry']=gdfirv['geometry'].apply(lambda x:shapely.geometry.mapping(x))\n",
    "gdfirv_dic = gdfirv.to_dict(orient=\"records\")"
   ]
  },
  {
   "cell_type": "code",
   "execution_count": 64,
   "id": "7fd650f7",
   "metadata": {},
   "outputs": [
    {
     "data": {
      "text/plain": [
       "<pymongo.results.InsertManyResult at 0x7fdd12fa2b40>"
      ]
     },
     "execution_count": 64,
     "metadata": {},
     "output_type": "execute_result"
    }
   ],
   "source": [
    "db.Irvine.create_index([(\"geometry\", GEOSPHERE)])\n",
    "db.Irvine.insert_many(gdfirv_dic)"
   ]
  }
 ],
 "metadata": {
  "kernelspec": {
   "display_name": "ironhack",
   "language": "python",
   "name": "ironhack"
  },
  "language_info": {
   "codemirror_mode": {
    "name": "ipython",
    "version": 3
   },
   "file_extension": ".py",
   "mimetype": "text/x-python",
   "name": "python",
   "nbconvert_exporter": "python",
   "pygments_lexer": "ipython3",
   "version": "3.8.8"
  }
 },
 "nbformat": 4,
 "nbformat_minor": 5
}
