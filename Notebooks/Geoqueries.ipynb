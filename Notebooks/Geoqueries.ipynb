{
 "cells": [
  {
   "cell_type": "code",
   "execution_count": 29,
   "id": "79f5f01b",
   "metadata": {},
   "outputs": [
    {
     "name": "stdout",
     "output_type": "stream",
     "text": [
      "Collecting cartoframes\n",
      "  Downloading cartoframes-1.2.4-py2.py3-none-any.whl (245 kB)\n",
      "\u001b[K     |████████████████████████████████| 245 kB 2.3 MB/s eta 0:00:01\n",
      "\u001b[?25hCollecting unidecode<2.0,>=1.1.0\n",
      "  Downloading Unidecode-1.3.2-py3-none-any.whl (235 kB)\n",
      "\u001b[K     |████████████████████████████████| 235 kB 2.7 MB/s eta 0:00:01\n",
      "\u001b[?25hRequirement already satisfied: jinja2<3.0,>=2.10.1 in /home/cleonortiz/anaconda3/lib/python3.8/site-packages (from cartoframes) (2.11.3)\n",
      "Collecting semantic-version<3,>=2.8.0\n",
      "  Downloading semantic_version-2.8.5-py2.py3-none-any.whl (15 kB)\n",
      "Requirement already satisfied: appdirs<2.0,>=1.4.3 in /home/cleonortiz/anaconda3/lib/python3.8/site-packages (from cartoframes) (1.4.4)\n",
      "Collecting carto<2.0,>=1.11.3\n",
      "  Downloading carto-1.11.3.tar.gz (27 kB)\n",
      "Requirement already satisfied: pandas>=0.25.0 in /home/cleonortiz/anaconda3/lib/python3.8/site-packages (from cartoframes) (1.2.4)\n",
      "Requirement already satisfied: geopandas<1.0,>=0.6.0 in /home/cleonortiz/anaconda3/lib/python3.8/site-packages (from cartoframes) (0.10.2)\n",
      "Requirement already satisfied: requests>=2.7.0 in /home/cleonortiz/anaconda3/lib/python3.8/site-packages (from carto<2.0,>=1.11.3->cartoframes) (2.25.1)\n",
      "Collecting pyrestcli==0.6.11\n",
      "  Downloading pyrestcli-0.6.11.tar.gz (9.1 kB)\n",
      "Requirement already satisfied: python-dateutil>=2.5.3 in /home/cleonortiz/anaconda3/lib/python3.8/site-packages (from pyrestcli==0.6.11->carto<2.0,>=1.11.3->cartoframes) (2.8.1)\n",
      "Requirement already satisfied: future>=0.15.2 in /home/cleonortiz/anaconda3/lib/python3.8/site-packages (from pyrestcli==0.6.11->carto<2.0,>=1.11.3->cartoframes) (0.18.2)\n",
      "Requirement already satisfied: pyproj>=2.2.0 in /home/cleonortiz/anaconda3/lib/python3.8/site-packages (from geopandas<1.0,>=0.6.0->cartoframes) (3.2.1)\n",
      "Requirement already satisfied: shapely>=1.6 in /home/cleonortiz/anaconda3/lib/python3.8/site-packages (from geopandas<1.0,>=0.6.0->cartoframes) (1.8.0)\n",
      "Requirement already satisfied: fiona>=1.8 in /home/cleonortiz/anaconda3/lib/python3.8/site-packages (from geopandas<1.0,>=0.6.0->cartoframes) (1.8.20)\n",
      "Requirement already satisfied: attrs>=17 in /home/cleonortiz/anaconda3/lib/python3.8/site-packages (from fiona>=1.8->geopandas<1.0,>=0.6.0->cartoframes) (20.3.0)\n",
      "Requirement already satisfied: click-plugins>=1.0 in /home/cleonortiz/anaconda3/lib/python3.8/site-packages (from fiona>=1.8->geopandas<1.0,>=0.6.0->cartoframes) (1.1.1)\n",
      "Requirement already satisfied: setuptools in /home/cleonortiz/anaconda3/lib/python3.8/site-packages (from fiona>=1.8->geopandas<1.0,>=0.6.0->cartoframes) (52.0.0.post20210125)\n",
      "Requirement already satisfied: certifi in /home/cleonortiz/anaconda3/lib/python3.8/site-packages (from fiona>=1.8->geopandas<1.0,>=0.6.0->cartoframes) (2020.12.5)\n",
      "Requirement already satisfied: munch in /home/cleonortiz/anaconda3/lib/python3.8/site-packages (from fiona>=1.8->geopandas<1.0,>=0.6.0->cartoframes) (2.5.0)\n",
      "Requirement already satisfied: cligj>=0.5 in /home/cleonortiz/anaconda3/lib/python3.8/site-packages (from fiona>=1.8->geopandas<1.0,>=0.6.0->cartoframes) (0.7.2)\n",
      "Requirement already satisfied: six>=1.7 in /home/cleonortiz/anaconda3/lib/python3.8/site-packages (from fiona>=1.8->geopandas<1.0,>=0.6.0->cartoframes) (1.15.0)\n",
      "Requirement already satisfied: click>=4.0 in /home/cleonortiz/anaconda3/lib/python3.8/site-packages (from fiona>=1.8->geopandas<1.0,>=0.6.0->cartoframes) (7.1.2)\n",
      "Requirement already satisfied: MarkupSafe>=0.23 in /home/cleonortiz/anaconda3/lib/python3.8/site-packages (from jinja2<3.0,>=2.10.1->cartoframes) (1.1.1)\n",
      "Requirement already satisfied: pytz>=2017.3 in /home/cleonortiz/anaconda3/lib/python3.8/site-packages (from pandas>=0.25.0->cartoframes) (2021.1)\n",
      "Requirement already satisfied: numpy>=1.16.5 in /home/cleonortiz/anaconda3/lib/python3.8/site-packages (from pandas>=0.25.0->cartoframes) (1.20.1)\n",
      "Requirement already satisfied: chardet<5,>=3.0.2 in /home/cleonortiz/anaconda3/lib/python3.8/site-packages (from requests>=2.7.0->carto<2.0,>=1.11.3->cartoframes) (4.0.0)\n",
      "Requirement already satisfied: urllib3<1.27,>=1.21.1 in /home/cleonortiz/anaconda3/lib/python3.8/site-packages (from requests>=2.7.0->carto<2.0,>=1.11.3->cartoframes) (1.26.4)\n",
      "Requirement already satisfied: idna<3,>=2.5 in /home/cleonortiz/anaconda3/lib/python3.8/site-packages (from requests>=2.7.0->carto<2.0,>=1.11.3->cartoframes) (2.10)\n",
      "Building wheels for collected packages: carto, pyrestcli\n",
      "  Building wheel for carto (setup.py) ... \u001b[?25ldone\n",
      "\u001b[?25h  Created wheel for carto: filename=carto-1.11.3-py3-none-any.whl size=35073 sha256=ca68d4ba7d749f0c700f72698d88cb06d9c3fc440fd97f08ba3c5d95578f112e\n",
      "  Stored in directory: /home/cleonortiz/.cache/pip/wheels/6b/a3/41/90fa4334cd280f91d17226f36db7a34b12902f7e5b281afb84\n",
      "  Building wheel for pyrestcli (setup.py) ... \u001b[?25ldone\n",
      "\u001b[?25h  Created wheel for pyrestcli: filename=pyrestcli-0.6.11-py3-none-any.whl size=8499 sha256=e9338af2e9ecd7bebb0dc9e79309355dfd57bdc41990fe2858d667fd961018b6\n",
      "  Stored in directory: /home/cleonortiz/.cache/pip/wheels/92/fc/98/2e46573b8e1bbe953345578314c765d3ecdc9532450bb90d79\n",
      "Successfully built carto pyrestcli\n",
      "Installing collected packages: pyrestcli, unidecode, semantic-version, carto, cartoframes\n",
      "Successfully installed carto-1.11.3 cartoframes-1.2.4 pyrestcli-0.6.11 semantic-version-2.8.5 unidecode-1.3.2\n",
      "Note: you may need to restart the kernel to use updated packages.\n"
     ]
    }
   ],
   "source": [
    "%pip install cartoframes"
   ]
  },
  {
   "cell_type": "code",
   "execution_count": 40,
   "id": "95505772",
   "metadata": {},
   "outputs": [],
   "source": [
    "from pymongo import MongoClient\n",
    "from pymongo import GEOSPHERE\n",
    "import pandas as pd\n",
    "import sys\n",
    "sys.path.append('/mnt/c/Users/cleon/Documents/CAL_CAL/ironhack/Proyectos/Headquarters-Hunt/src')\n",
    "import apifunctions as af\n",
    "import geopandas as gpd\n",
    "from cartoframes.viz import Map, Layer, popup_element\n",
    "import shapely.geometry"
   ]
  },
  {
   "cell_type": "code",
   "execution_count": 2,
   "id": "e5206cf8",
   "metadata": {},
   "outputs": [],
   "source": [
    "sim_comp = pd.read_csv('../data/similarcompanies.csv')"
   ]
  },
  {
   "cell_type": "code",
   "execution_count": 60,
   "id": "9df3d342",
   "metadata": {},
   "outputs": [],
   "source": [
    "client = MongoClient(\"localhost:27017\")\n",
    "db = client.get_database(\"Headquarters\")\n",
    "\n",
    "\n",
    "vanc = db.get_collection(\"Vancouver\")\n",
    "bev = db.get_collection(\"BeverlyHills\")\n",
    "irv = db.get_collection('Irvine')"
   ]
  },
  {
   "cell_type": "code",
   "execution_count": 61,
   "id": "6e007f48",
   "metadata": {
    "scrolled": true
   },
   "outputs": [],
   "source": [
    "geovan = pd.DataFrame(list(vanc.find()))\n",
    "geobeb = pd.DataFrame(list(bev.find()))\n",
    "geoirv = pd.DataFrame(list(irv.find()))"
   ]
  },
  {
   "cell_type": "code",
   "execution_count": 62,
   "id": "c31a34a4",
   "metadata": {
    "scrolled": false
   },
   "outputs": [
    {
     "data": {
      "text/html": [
       "<div>\n",
       "<style scoped>\n",
       "    .dataframe tbody tr th:only-of-type {\n",
       "        vertical-align: middle;\n",
       "    }\n",
       "\n",
       "    .dataframe tbody tr th {\n",
       "        vertical-align: top;\n",
       "    }\n",
       "\n",
       "    .dataframe thead th {\n",
       "        text-align: right;\n",
       "    }\n",
       "</style>\n",
       "<table border=\"1\" class=\"dataframe\">\n",
       "  <thead>\n",
       "    <tr style=\"text-align: right;\">\n",
       "      <th></th>\n",
       "      <th>_id</th>\n",
       "      <th>nombre</th>\n",
       "      <th>latitud</th>\n",
       "      <th>longitud</th>\n",
       "      <th>category</th>\n",
       "      <th>distance</th>\n",
       "      <th>location</th>\n",
       "    </tr>\n",
       "  </thead>\n",
       "  <tbody>\n",
       "    <tr>\n",
       "      <th>16</th>\n",
       "      <td>6192581bee1960c50aeaf3a7</td>\n",
       "      <td>Spot Solutions</td>\n",
       "      <td>49.284899</td>\n",
       "      <td>-123.094127</td>\n",
       "      <td>Tech Startup</td>\n",
       "      <td>1935</td>\n",
       "      <td>{'type': 'Point', 'coordinates': [49.284899, -...</td>\n",
       "    </tr>\n",
       "  </tbody>\n",
       "</table>\n",
       "</div>"
      ],
      "text/plain": [
       "                         _id          nombre    latitud    longitud  \\\n",
       "16  6192581bee1960c50aeaf3a7  Spot Solutions  49.284899 -123.094127   \n",
       "\n",
       "        category  distance                                           location  \n",
       "16  Tech Startup      1935  {'type': 'Point', 'coordinates': [49.284899, -...  "
      ]
     },
     "execution_count": 62,
     "metadata": {},
     "output_type": "execute_result"
    }
   ],
   "source": [
    "geovan.sample()"
   ]
  },
  {
   "cell_type": "code",
   "execution_count": 66,
   "id": "c8f3f406",
   "metadata": {
    "scrolled": true
   },
   "outputs": [
    {
     "data": {
      "text/html": [
       "<div>\n",
       "<style scoped>\n",
       "    .dataframe tbody tr th:only-of-type {\n",
       "        vertical-align: middle;\n",
       "    }\n",
       "\n",
       "    .dataframe tbody tr th {\n",
       "        vertical-align: top;\n",
       "    }\n",
       "\n",
       "    .dataframe thead th {\n",
       "        text-align: right;\n",
       "    }\n",
       "</style>\n",
       "<table border=\"1\" class=\"dataframe\">\n",
       "  <thead>\n",
       "    <tr style=\"text-align: right;\">\n",
       "      <th></th>\n",
       "      <th>_id</th>\n",
       "      <th>nombre</th>\n",
       "      <th>latitud</th>\n",
       "      <th>longitud</th>\n",
       "      <th>category</th>\n",
       "      <th>distance</th>\n",
       "      <th>geometry</th>\n",
       "    </tr>\n",
       "  </thead>\n",
       "  <tbody>\n",
       "    <tr>\n",
       "      <th>0</th>\n",
       "      <td>6192581bee1960c50aeaf397</td>\n",
       "      <td>Marketing.AI</td>\n",
       "      <td>49.278876</td>\n",
       "      <td>-123.119419</td>\n",
       "      <td>Tech Startup</td>\n",
       "      <td>319</td>\n",
       "      <td>POINT (-123.11942 49.27888)</td>\n",
       "    </tr>\n",
       "    <tr>\n",
       "      <th>1</th>\n",
       "      <td>6192581bee1960c50aeaf398</td>\n",
       "      <td>Anemone Hug Interactive</td>\n",
       "      <td>49.283573</td>\n",
       "      <td>-123.112627</td>\n",
       "      <td>Tech Startup</td>\n",
       "      <td>874</td>\n",
       "      <td>POINT (-123.11263 49.28357)</td>\n",
       "    </tr>\n",
       "    <tr>\n",
       "      <th>2</th>\n",
       "      <td>6192581bee1960c50aeaf399</td>\n",
       "      <td>Rx Networks Inc.</td>\n",
       "      <td>49.288435</td>\n",
       "      <td>-123.123421</td>\n",
       "      <td>Tech Startup</td>\n",
       "      <td>1416</td>\n",
       "      <td>POINT (-123.12342 49.28844)</td>\n",
       "    </tr>\n",
       "    <tr>\n",
       "      <th>3</th>\n",
       "      <td>6192581bee1960c50aeaf39a</td>\n",
       "      <td>Bench HQ</td>\n",
       "      <td>49.282817</td>\n",
       "      <td>-123.103898</td>\n",
       "      <td>Tech Startup</td>\n",
       "      <td>1213</td>\n",
       "      <td>POINT (-123.10390 49.28282)</td>\n",
       "    </tr>\n",
       "    <tr>\n",
       "      <th>4</th>\n",
       "      <td>6192581bee1960c50aeaf39b</td>\n",
       "      <td>Hootsuite Media</td>\n",
       "      <td>49.264233</td>\n",
       "      <td>-123.104446</td>\n",
       "      <td>Tech Startup</td>\n",
       "      <td>1641</td>\n",
       "      <td>POINT (-123.10445 49.26423)</td>\n",
       "    </tr>\n",
       "    <tr>\n",
       "      <th>...</th>\n",
       "      <td>...</td>\n",
       "      <td>...</td>\n",
       "      <td>...</td>\n",
       "      <td>...</td>\n",
       "      <td>...</td>\n",
       "      <td>...</td>\n",
       "      <td>...</td>\n",
       "    </tr>\n",
       "    <tr>\n",
       "      <th>144</th>\n",
       "      <td>6192581bee1960c50aeaf427</td>\n",
       "      <td>Starbucks</td>\n",
       "      <td>49.282568</td>\n",
       "      <td>-123.122399</td>\n",
       "      <td>Coffee Shop</td>\n",
       "      <td>784</td>\n",
       "      <td>POINT (-123.12240 49.28257)</td>\n",
       "    </tr>\n",
       "    <tr>\n",
       "      <th>145</th>\n",
       "      <td>6192581bee1960c50aeaf428</td>\n",
       "      <td>Starbucks</td>\n",
       "      <td>49.284634</td>\n",
       "      <td>-123.124640</td>\n",
       "      <td>Coffee Shop</td>\n",
       "      <td>1064</td>\n",
       "      <td>POINT (-123.12464 49.28463)</td>\n",
       "    </tr>\n",
       "    <tr>\n",
       "      <th>146</th>\n",
       "      <td>6192581bee1960c50aeaf429</td>\n",
       "      <td>Starbucks</td>\n",
       "      <td>49.281780</td>\n",
       "      <td>-123.124590</td>\n",
       "      <td>Coffee Shop</td>\n",
       "      <td>802</td>\n",
       "      <td>POINT (-123.12459 49.28178)</td>\n",
       "    </tr>\n",
       "    <tr>\n",
       "      <th>147</th>\n",
       "      <td>6192581bee1960c50aeaf42a</td>\n",
       "      <td>Starbucks</td>\n",
       "      <td>49.286491</td>\n",
       "      <td>-123.121309</td>\n",
       "      <td>Coffee Shop</td>\n",
       "      <td>1165</td>\n",
       "      <td>POINT (-123.12131 49.28649)</td>\n",
       "    </tr>\n",
       "    <tr>\n",
       "      <th>148</th>\n",
       "      <td>6192581bee1960c50aeaf42b</td>\n",
       "      <td>Starbucks</td>\n",
       "      <td>49.287578</td>\n",
       "      <td>-123.119728</td>\n",
       "      <td>Coffee Shop</td>\n",
       "      <td>1262</td>\n",
       "      <td>POINT (-123.11973 49.28758)</td>\n",
       "    </tr>\n",
       "  </tbody>\n",
       "</table>\n",
       "<p>149 rows × 7 columns</p>\n",
       "</div>"
      ],
      "text/plain": [
       "                          _id                   nombre    latitud    longitud  \\\n",
       "0    6192581bee1960c50aeaf397             Marketing.AI  49.278876 -123.119419   \n",
       "1    6192581bee1960c50aeaf398  Anemone Hug Interactive  49.283573 -123.112627   \n",
       "2    6192581bee1960c50aeaf399         Rx Networks Inc.  49.288435 -123.123421   \n",
       "3    6192581bee1960c50aeaf39a                 Bench HQ  49.282817 -123.103898   \n",
       "4    6192581bee1960c50aeaf39b          Hootsuite Media  49.264233 -123.104446   \n",
       "..                        ...                      ...        ...         ...   \n",
       "144  6192581bee1960c50aeaf427                Starbucks  49.282568 -123.122399   \n",
       "145  6192581bee1960c50aeaf428                Starbucks  49.284634 -123.124640   \n",
       "146  6192581bee1960c50aeaf429                Starbucks  49.281780 -123.124590   \n",
       "147  6192581bee1960c50aeaf42a                Starbucks  49.286491 -123.121309   \n",
       "148  6192581bee1960c50aeaf42b                Starbucks  49.287578 -123.119728   \n",
       "\n",
       "         category  distance                     geometry  \n",
       "0    Tech Startup       319  POINT (-123.11942 49.27888)  \n",
       "1    Tech Startup       874  POINT (-123.11263 49.28357)  \n",
       "2    Tech Startup      1416  POINT (-123.12342 49.28844)  \n",
       "3    Tech Startup      1213  POINT (-123.10390 49.28282)  \n",
       "4    Tech Startup      1641  POINT (-123.10445 49.26423)  \n",
       "..            ...       ...                          ...  \n",
       "144   Coffee Shop       784  POINT (-123.12240 49.28257)  \n",
       "145   Coffee Shop      1064  POINT (-123.12464 49.28463)  \n",
       "146   Coffee Shop       802  POINT (-123.12459 49.28178)  \n",
       "147   Coffee Shop      1165  POINT (-123.12131 49.28649)  \n",
       "148   Coffee Shop      1262  POINT (-123.11973 49.28758)  \n",
       "\n",
       "[149 rows x 7 columns]"
      ]
     },
     "execution_count": 66,
     "metadata": {},
     "output_type": "execute_result"
    }
   ],
   "source": [
    "gdfvan = gpd.GeoDataFrame(geovan, geometry=gpd.points_from_xy(geovan.longitud, geovan.latitud))\n",
    "gdfvan.drop('location', axis=1,inplace=True)\n",
    "gdfvan"
   ]
  },
  {
   "cell_type": "code",
   "execution_count": 64,
   "id": "f00da2c8",
   "metadata": {
    "scrolled": true
   },
   "outputs": [
    {
     "name": "stderr",
     "output_type": "stream",
     "text": [
      "/home/cleonortiz/anaconda3/lib/python3.8/site-packages/geopandas/geodataframe.py:1350: UserWarning: Geometry column does not contain geometry.\n",
      "  warnings.warn(\"Geometry column does not contain geometry.\")\n"
     ]
    },
    {
     "ename": "BulkWriteError",
     "evalue": "batch op errors occurred, full error: {'writeErrors': [{'index': 0, 'code': 11000, 'keyPattern': {'_id': 1}, 'keyValue': {'_id': ObjectId('6192581bee1960c50aeaf397')}, 'errmsg': \"E11000 duplicate key error collection: Headquarters.Vancouver index: _id_ dup key: { _id: ObjectId('6192581bee1960c50aeaf397') }\", 'op': {'_id': ObjectId('6192581bee1960c50aeaf397'), 'nombre': 'Marketing.AI', 'latitud': 49.278876040017614, 'longitud': -123.1194186747484, 'category': 'Tech Startup', 'distance': 319, 'geometry': {'type': 'Point', 'coordinates': (-123.1194186747484, 49.278876040017614)}}}], 'writeConcernErrors': [], 'nInserted': 0, 'nUpserted': 0, 'nMatched': 0, 'nModified': 0, 'nRemoved': 0, 'upserted': []}",
     "output_type": "error",
     "traceback": [
      "\u001b[0;31m---------------------------------------------------------------------------\u001b[0m",
      "\u001b[0;31mBulkWriteError\u001b[0m                            Traceback (most recent call last)",
      "\u001b[0;32m<ipython-input-64-e207bfa943fd>\u001b[0m in \u001b[0;36m<module>\u001b[0;34m\u001b[0m\n\u001b[1;32m      2\u001b[0m \u001b[0mgdfvan_dic\u001b[0m \u001b[0;34m=\u001b[0m \u001b[0mgdfvan\u001b[0m\u001b[0;34m.\u001b[0m\u001b[0mto_dict\u001b[0m\u001b[0;34m(\u001b[0m\u001b[0morient\u001b[0m\u001b[0;34m=\u001b[0m\u001b[0;34m\"records\"\u001b[0m\u001b[0;34m)\u001b[0m\u001b[0;34m\u001b[0m\u001b[0;34m\u001b[0m\u001b[0m\n\u001b[1;32m      3\u001b[0m \u001b[0mvanc\u001b[0m\u001b[0;34m.\u001b[0m\u001b[0mcreate_index\u001b[0m\u001b[0;34m(\u001b[0m\u001b[0;34m[\u001b[0m\u001b[0;34m(\u001b[0m\u001b[0;34m\"geometry\"\u001b[0m\u001b[0;34m,\u001b[0m \u001b[0mGEOSPHERE\u001b[0m\u001b[0;34m)\u001b[0m\u001b[0;34m]\u001b[0m\u001b[0;34m)\u001b[0m\u001b[0;34m\u001b[0m\u001b[0;34m\u001b[0m\u001b[0m\n\u001b[0;32m----> 4\u001b[0;31m \u001b[0mvanc\u001b[0m\u001b[0;34m.\u001b[0m\u001b[0minsert_many\u001b[0m\u001b[0;34m(\u001b[0m\u001b[0mgdfvan_dic\u001b[0m\u001b[0;34m)\u001b[0m\u001b[0;34m\u001b[0m\u001b[0;34m\u001b[0m\u001b[0m\n\u001b[0m",
      "\u001b[0;32m~/anaconda3/lib/python3.8/site-packages/pymongo/collection.py\u001b[0m in \u001b[0;36minsert_many\u001b[0;34m(self, documents, ordered, bypass_document_validation, session)\u001b[0m\n\u001b[1;32m    768\u001b[0m         \u001b[0mblk\u001b[0m \u001b[0;34m=\u001b[0m \u001b[0m_Bulk\u001b[0m\u001b[0;34m(\u001b[0m\u001b[0mself\u001b[0m\u001b[0;34m,\u001b[0m \u001b[0mordered\u001b[0m\u001b[0;34m,\u001b[0m \u001b[0mbypass_document_validation\u001b[0m\u001b[0;34m)\u001b[0m\u001b[0;34m\u001b[0m\u001b[0;34m\u001b[0m\u001b[0m\n\u001b[1;32m    769\u001b[0m         \u001b[0mblk\u001b[0m\u001b[0;34m.\u001b[0m\u001b[0mops\u001b[0m \u001b[0;34m=\u001b[0m \u001b[0;34m[\u001b[0m\u001b[0mdoc\u001b[0m \u001b[0;32mfor\u001b[0m \u001b[0mdoc\u001b[0m \u001b[0;32min\u001b[0m \u001b[0mgen\u001b[0m\u001b[0;34m(\u001b[0m\u001b[0;34m)\u001b[0m\u001b[0;34m]\u001b[0m\u001b[0;34m\u001b[0m\u001b[0;34m\u001b[0m\u001b[0m\n\u001b[0;32m--> 770\u001b[0;31m         \u001b[0mblk\u001b[0m\u001b[0;34m.\u001b[0m\u001b[0mexecute\u001b[0m\u001b[0;34m(\u001b[0m\u001b[0mwrite_concern\u001b[0m\u001b[0;34m,\u001b[0m \u001b[0msession\u001b[0m\u001b[0;34m=\u001b[0m\u001b[0msession\u001b[0m\u001b[0;34m)\u001b[0m\u001b[0;34m\u001b[0m\u001b[0;34m\u001b[0m\u001b[0m\n\u001b[0m\u001b[1;32m    771\u001b[0m         \u001b[0;32mreturn\u001b[0m \u001b[0mInsertManyResult\u001b[0m\u001b[0;34m(\u001b[0m\u001b[0minserted_ids\u001b[0m\u001b[0;34m,\u001b[0m \u001b[0mwrite_concern\u001b[0m\u001b[0;34m.\u001b[0m\u001b[0macknowledged\u001b[0m\u001b[0;34m)\u001b[0m\u001b[0;34m\u001b[0m\u001b[0;34m\u001b[0m\u001b[0m\n\u001b[1;32m    772\u001b[0m \u001b[0;34m\u001b[0m\u001b[0m\n",
      "\u001b[0;32m~/anaconda3/lib/python3.8/site-packages/pymongo/bulk.py\u001b[0m in \u001b[0;36mexecute\u001b[0;34m(self, write_concern, session)\u001b[0m\n\u001b[1;32m    531\u001b[0m                 \u001b[0mself\u001b[0m\u001b[0;34m.\u001b[0m\u001b[0mexecute_no_results\u001b[0m\u001b[0;34m(\u001b[0m\u001b[0msock_info\u001b[0m\u001b[0;34m,\u001b[0m \u001b[0mgenerator\u001b[0m\u001b[0;34m)\u001b[0m\u001b[0;34m\u001b[0m\u001b[0;34m\u001b[0m\u001b[0m\n\u001b[1;32m    532\u001b[0m         \u001b[0;32melse\u001b[0m\u001b[0;34m:\u001b[0m\u001b[0;34m\u001b[0m\u001b[0;34m\u001b[0m\u001b[0m\n\u001b[0;32m--> 533\u001b[0;31m             \u001b[0;32mreturn\u001b[0m \u001b[0mself\u001b[0m\u001b[0;34m.\u001b[0m\u001b[0mexecute_command\u001b[0m\u001b[0;34m(\u001b[0m\u001b[0mgenerator\u001b[0m\u001b[0;34m,\u001b[0m \u001b[0mwrite_concern\u001b[0m\u001b[0;34m,\u001b[0m \u001b[0msession\u001b[0m\u001b[0;34m)\u001b[0m\u001b[0;34m\u001b[0m\u001b[0;34m\u001b[0m\u001b[0m\n\u001b[0m\u001b[1;32m    534\u001b[0m \u001b[0;34m\u001b[0m\u001b[0m\n\u001b[1;32m    535\u001b[0m \u001b[0;34m\u001b[0m\u001b[0m\n",
      "\u001b[0;32m~/anaconda3/lib/python3.8/site-packages/pymongo/bulk.py\u001b[0m in \u001b[0;36mexecute_command\u001b[0;34m(self, generator, write_concern, session)\u001b[0m\n\u001b[1;32m    364\u001b[0m \u001b[0;34m\u001b[0m\u001b[0m\n\u001b[1;32m    365\u001b[0m         \u001b[0;32mif\u001b[0m \u001b[0mfull_result\u001b[0m\u001b[0;34m[\u001b[0m\u001b[0;34m\"writeErrors\"\u001b[0m\u001b[0;34m]\u001b[0m \u001b[0;32mor\u001b[0m \u001b[0mfull_result\u001b[0m\u001b[0;34m[\u001b[0m\u001b[0;34m\"writeConcernErrors\"\u001b[0m\u001b[0;34m]\u001b[0m\u001b[0;34m:\u001b[0m\u001b[0;34m\u001b[0m\u001b[0;34m\u001b[0m\u001b[0m\n\u001b[0;32m--> 366\u001b[0;31m             \u001b[0m_raise_bulk_write_error\u001b[0m\u001b[0;34m(\u001b[0m\u001b[0mfull_result\u001b[0m\u001b[0;34m)\u001b[0m\u001b[0;34m\u001b[0m\u001b[0;34m\u001b[0m\u001b[0m\n\u001b[0m\u001b[1;32m    367\u001b[0m         \u001b[0;32mreturn\u001b[0m \u001b[0mfull_result\u001b[0m\u001b[0;34m\u001b[0m\u001b[0;34m\u001b[0m\u001b[0m\n\u001b[1;32m    368\u001b[0m \u001b[0;34m\u001b[0m\u001b[0m\n",
      "\u001b[0;32m~/anaconda3/lib/python3.8/site-packages/pymongo/bulk.py\u001b[0m in \u001b[0;36m_raise_bulk_write_error\u001b[0;34m(full_result)\u001b[0m\n\u001b[1;32m    138\u001b[0m         full_result[\"writeErrors\"].sort(\n\u001b[1;32m    139\u001b[0m             key=lambda error: error[\"index\"])\n\u001b[0;32m--> 140\u001b[0;31m     \u001b[0;32mraise\u001b[0m \u001b[0mBulkWriteError\u001b[0m\u001b[0;34m(\u001b[0m\u001b[0mfull_result\u001b[0m\u001b[0;34m)\u001b[0m\u001b[0;34m\u001b[0m\u001b[0;34m\u001b[0m\u001b[0m\n\u001b[0m\u001b[1;32m    141\u001b[0m \u001b[0;34m\u001b[0m\u001b[0m\n\u001b[1;32m    142\u001b[0m \u001b[0;34m\u001b[0m\u001b[0m\n",
      "\u001b[0;31mBulkWriteError\u001b[0m: batch op errors occurred, full error: {'writeErrors': [{'index': 0, 'code': 11000, 'keyPattern': {'_id': 1}, 'keyValue': {'_id': ObjectId('6192581bee1960c50aeaf397')}, 'errmsg': \"E11000 duplicate key error collection: Headquarters.Vancouver index: _id_ dup key: { _id: ObjectId('6192581bee1960c50aeaf397') }\", 'op': {'_id': ObjectId('6192581bee1960c50aeaf397'), 'nombre': 'Marketing.AI', 'latitud': 49.278876040017614, 'longitud': -123.1194186747484, 'category': 'Tech Startup', 'distance': 319, 'geometry': {'type': 'Point', 'coordinates': (-123.1194186747484, 49.278876040017614)}}}], 'writeConcernErrors': [], 'nInserted': 0, 'nUpserted': 0, 'nMatched': 0, 'nModified': 0, 'nRemoved': 0, 'upserted': []}"
     ]
    }
   ],
   "source": [
    "gdfvan['geometry']=gdfvan['geometry'].apply(lambda x:shapely.geometry.mapping(x))\n",
    "gdfvan_dic = gdfvan.to_dict(orient=\"records\")\n",
    "vanc.create_index([(\"geometry\", GEOSPHERE)])\n",
    "vanc.insert_many(gdfvan_dic)"
   ]
  },
  {
   "cell_type": "code",
   "execution_count": 20,
   "id": "b6dba27b",
   "metadata": {},
   "outputs": [
    {
     "ename": "OperationFailure",
     "evalue": "Index build failed: 2463dde4-f80c-46c9-9523-7bec93ad9224: Collection Headquarters.Vancouver ( c58f2c2a-0b82-4baf-9101-b6e51db7fbe0 ) :: caused by :: Can't extract geo keys: { _id: ObjectId('6192581bee1960c50aeaf397'), nombre: \"Marketing.AI\", latitud: 49.27887604001761, longitud: -123.1194186747484, category: \"Tech Startup\", distance: 319, location: { type: \"Point\", coordinates: [ 49.27887604001761, -123.1194186747484 ] } }  longitude/latitude is out of bounds, lng: 49.2789 lat: -123.119, full error: {'ok': 0.0, 'errmsg': 'Index build failed: 2463dde4-f80c-46c9-9523-7bec93ad9224: Collection Headquarters.Vancouver ( c58f2c2a-0b82-4baf-9101-b6e51db7fbe0 ) :: caused by :: Can\\'t extract geo keys: { _id: ObjectId(\\'6192581bee1960c50aeaf397\\'), nombre: \"Marketing.AI\", latitud: 49.27887604001761, longitud: -123.1194186747484, category: \"Tech Startup\", distance: 319, location: { type: \"Point\", coordinates: [ 49.27887604001761, -123.1194186747484 ] } }  longitude/latitude is out of bounds, lng: 49.2789 lat: -123.119', 'code': 16755, 'codeName': 'Location16755'}",
     "output_type": "error",
     "traceback": [
      "\u001b[0;31m---------------------------------------------------------------------------\u001b[0m",
      "\u001b[0;31mOperationFailure\u001b[0m                          Traceback (most recent call last)",
      "\u001b[0;32m<ipython-input-20-7d6d225c1003>\u001b[0m in \u001b[0;36m<module>\u001b[0;34m\u001b[0m\n\u001b[0;32m----> 1\u001b[0;31m \u001b[0mdb\u001b[0m\u001b[0;34m.\u001b[0m\u001b[0mVancouver\u001b[0m\u001b[0;34m.\u001b[0m\u001b[0mcreate_index\u001b[0m\u001b[0;34m(\u001b[0m\u001b[0;34m[\u001b[0m\u001b[0;34m(\u001b[0m\u001b[0;34m\"location\"\u001b[0m\u001b[0;34m,\u001b[0m \u001b[0mGEOSPHERE\u001b[0m\u001b[0;34m)\u001b[0m\u001b[0;34m]\u001b[0m\u001b[0;34m)\u001b[0m\u001b[0;34m\u001b[0m\u001b[0;34m\u001b[0m\u001b[0m\n\u001b[0m\u001b[1;32m      2\u001b[0m \u001b[0;31m# db.bev.create_index([(\"location\", GEOSPHERE)])\u001b[0m\u001b[0;34m\u001b[0m\u001b[0;34m\u001b[0m\u001b[0;34m\u001b[0m\u001b[0m\n\u001b[1;32m      3\u001b[0m \u001b[0;31m# db.irv.create_index([(\"location\", GEOSPHERE)])\u001b[0m\u001b[0;34m\u001b[0m\u001b[0;34m\u001b[0m\u001b[0;34m\u001b[0m\u001b[0m\n",
      "\u001b[0;32m~/anaconda3/lib/python3.8/site-packages/pymongo/collection.py\u001b[0m in \u001b[0;36mcreate_index\u001b[0;34m(self, keys, session, **kwargs)\u001b[0m\n\u001b[1;32m   2099\u001b[0m             \u001b[0mcmd_options\u001b[0m\u001b[0;34m[\u001b[0m\u001b[0;34m\"maxTimeMS\"\u001b[0m\u001b[0;34m]\u001b[0m \u001b[0;34m=\u001b[0m \u001b[0mkwargs\u001b[0m\u001b[0;34m.\u001b[0m\u001b[0mpop\u001b[0m\u001b[0;34m(\u001b[0m\u001b[0;34m\"maxTimeMS\"\u001b[0m\u001b[0;34m)\u001b[0m\u001b[0;34m\u001b[0m\u001b[0;34m\u001b[0m\u001b[0m\n\u001b[1;32m   2100\u001b[0m         \u001b[0mindex\u001b[0m \u001b[0;34m=\u001b[0m \u001b[0mIndexModel\u001b[0m\u001b[0;34m(\u001b[0m\u001b[0mkeys\u001b[0m\u001b[0;34m,\u001b[0m \u001b[0;34m**\u001b[0m\u001b[0mkwargs\u001b[0m\u001b[0;34m)\u001b[0m\u001b[0;34m\u001b[0m\u001b[0;34m\u001b[0m\u001b[0m\n\u001b[0;32m-> 2101\u001b[0;31m         \u001b[0;32mreturn\u001b[0m \u001b[0mself\u001b[0m\u001b[0;34m.\u001b[0m\u001b[0m__create_indexes\u001b[0m\u001b[0;34m(\u001b[0m\u001b[0;34m[\u001b[0m\u001b[0mindex\u001b[0m\u001b[0;34m]\u001b[0m\u001b[0;34m,\u001b[0m \u001b[0msession\u001b[0m\u001b[0;34m,\u001b[0m \u001b[0;34m**\u001b[0m\u001b[0mcmd_options\u001b[0m\u001b[0;34m)\u001b[0m\u001b[0;34m[\u001b[0m\u001b[0;36m0\u001b[0m\u001b[0;34m]\u001b[0m\u001b[0;34m\u001b[0m\u001b[0;34m\u001b[0m\u001b[0m\n\u001b[0m\u001b[1;32m   2102\u001b[0m \u001b[0;34m\u001b[0m\u001b[0m\n\u001b[1;32m   2103\u001b[0m     \u001b[0;32mdef\u001b[0m \u001b[0mensure_index\u001b[0m\u001b[0;34m(\u001b[0m\u001b[0mself\u001b[0m\u001b[0;34m,\u001b[0m \u001b[0mkey_or_list\u001b[0m\u001b[0;34m,\u001b[0m \u001b[0mcache_for\u001b[0m\u001b[0;34m=\u001b[0m\u001b[0;36m300\u001b[0m\u001b[0;34m,\u001b[0m \u001b[0;34m**\u001b[0m\u001b[0mkwargs\u001b[0m\u001b[0;34m)\u001b[0m\u001b[0;34m:\u001b[0m\u001b[0;34m\u001b[0m\u001b[0;34m\u001b[0m\u001b[0m\n",
      "\u001b[0;32m~/anaconda3/lib/python3.8/site-packages/pymongo/collection.py\u001b[0m in \u001b[0;36m__create_indexes\u001b[0;34m(self, indexes, session, **kwargs)\u001b[0m\n\u001b[1;32m   1989\u001b[0m                     \"commitQuorum option for createIndexes\")\n\u001b[1;32m   1990\u001b[0m \u001b[0;34m\u001b[0m\u001b[0m\n\u001b[0;32m-> 1991\u001b[0;31m             self._command(\n\u001b[0m\u001b[1;32m   1992\u001b[0m                 \u001b[0msock_info\u001b[0m\u001b[0;34m,\u001b[0m \u001b[0mcmd\u001b[0m\u001b[0;34m,\u001b[0m \u001b[0mread_preference\u001b[0m\u001b[0;34m=\u001b[0m\u001b[0mReadPreference\u001b[0m\u001b[0;34m.\u001b[0m\u001b[0mPRIMARY\u001b[0m\u001b[0;34m,\u001b[0m\u001b[0;34m\u001b[0m\u001b[0;34m\u001b[0m\u001b[0m\n\u001b[1;32m   1993\u001b[0m                 \u001b[0mcodec_options\u001b[0m\u001b[0;34m=\u001b[0m\u001b[0m_UNICODE_REPLACE_CODEC_OPTIONS\u001b[0m\u001b[0;34m,\u001b[0m\u001b[0;34m\u001b[0m\u001b[0;34m\u001b[0m\u001b[0m\n",
      "\u001b[0;32m~/anaconda3/lib/python3.8/site-packages/pymongo/collection.py\u001b[0m in \u001b[0;36m_command\u001b[0;34m(self, sock_info, command, secondary_ok, read_preference, codec_options, check, allowable_errors, read_concern, write_concern, collation, session, retryable_write, user_fields)\u001b[0m\n\u001b[1;32m    236\u001b[0m         \"\"\"\n\u001b[1;32m    237\u001b[0m         \u001b[0;32mwith\u001b[0m \u001b[0mself\u001b[0m\u001b[0;34m.\u001b[0m\u001b[0m__database\u001b[0m\u001b[0;34m.\u001b[0m\u001b[0mclient\u001b[0m\u001b[0;34m.\u001b[0m\u001b[0m_tmp_session\u001b[0m\u001b[0;34m(\u001b[0m\u001b[0msession\u001b[0m\u001b[0;34m)\u001b[0m \u001b[0;32mas\u001b[0m \u001b[0ms\u001b[0m\u001b[0;34m:\u001b[0m\u001b[0;34m\u001b[0m\u001b[0;34m\u001b[0m\u001b[0m\n\u001b[0;32m--> 238\u001b[0;31m             return sock_info.command(\n\u001b[0m\u001b[1;32m    239\u001b[0m                 \u001b[0mself\u001b[0m\u001b[0;34m.\u001b[0m\u001b[0m__database\u001b[0m\u001b[0;34m.\u001b[0m\u001b[0mname\u001b[0m\u001b[0;34m,\u001b[0m\u001b[0;34m\u001b[0m\u001b[0;34m\u001b[0m\u001b[0m\n\u001b[1;32m    240\u001b[0m                 \u001b[0mcommand\u001b[0m\u001b[0;34m,\u001b[0m\u001b[0;34m\u001b[0m\u001b[0;34m\u001b[0m\u001b[0m\n",
      "\u001b[0;32m~/anaconda3/lib/python3.8/site-packages/pymongo/pool.py\u001b[0m in \u001b[0;36mcommand\u001b[0;34m(self, dbname, spec, secondary_ok, read_preference, codec_options, check, allowable_errors, check_keys, read_concern, write_concern, parse_write_concern_error, collation, session, client, retryable_write, publish_events, user_fields, exhaust_allowed)\u001b[0m\n\u001b[1;32m    708\u001b[0m             \u001b[0mself\u001b[0m\u001b[0;34m.\u001b[0m\u001b[0m_raise_if_not_writable\u001b[0m\u001b[0;34m(\u001b[0m\u001b[0munacknowledged\u001b[0m\u001b[0;34m)\u001b[0m\u001b[0;34m\u001b[0m\u001b[0;34m\u001b[0m\u001b[0m\n\u001b[1;32m    709\u001b[0m         \u001b[0;32mtry\u001b[0m\u001b[0;34m:\u001b[0m\u001b[0;34m\u001b[0m\u001b[0;34m\u001b[0m\u001b[0m\n\u001b[0;32m--> 710\u001b[0;31m             return command(self, dbname, spec, secondary_ok,\n\u001b[0m\u001b[1;32m    711\u001b[0m                            \u001b[0mself\u001b[0m\u001b[0;34m.\u001b[0m\u001b[0mis_mongos\u001b[0m\u001b[0;34m,\u001b[0m \u001b[0mread_preference\u001b[0m\u001b[0;34m,\u001b[0m \u001b[0mcodec_options\u001b[0m\u001b[0;34m,\u001b[0m\u001b[0;34m\u001b[0m\u001b[0;34m\u001b[0m\u001b[0m\n\u001b[1;32m    712\u001b[0m                            \u001b[0msession\u001b[0m\u001b[0;34m,\u001b[0m \u001b[0mclient\u001b[0m\u001b[0;34m,\u001b[0m \u001b[0mcheck\u001b[0m\u001b[0;34m,\u001b[0m \u001b[0mallowable_errors\u001b[0m\u001b[0;34m,\u001b[0m\u001b[0;34m\u001b[0m\u001b[0;34m\u001b[0m\u001b[0m\n",
      "\u001b[0;32m~/anaconda3/lib/python3.8/site-packages/pymongo/network.py\u001b[0m in \u001b[0;36mcommand\u001b[0;34m(sock_info, dbname, spec, secondary_ok, is_mongos, read_preference, codec_options, session, client, check, allowable_errors, address, check_keys, listeners, max_bson_size, read_concern, parse_write_concern_error, collation, compression_ctx, use_op_msg, unacknowledged, user_fields, exhaust_allowed)\u001b[0m\n\u001b[1;32m    159\u001b[0m                 \u001b[0mclient\u001b[0m\u001b[0;34m.\u001b[0m\u001b[0m_process_response\u001b[0m\u001b[0;34m(\u001b[0m\u001b[0mresponse_doc\u001b[0m\u001b[0;34m,\u001b[0m \u001b[0msession\u001b[0m\u001b[0;34m)\u001b[0m\u001b[0;34m\u001b[0m\u001b[0;34m\u001b[0m\u001b[0m\n\u001b[1;32m    160\u001b[0m             \u001b[0;32mif\u001b[0m \u001b[0mcheck\u001b[0m\u001b[0;34m:\u001b[0m\u001b[0;34m\u001b[0m\u001b[0;34m\u001b[0m\u001b[0m\n\u001b[0;32m--> 161\u001b[0;31m                 helpers._check_command_response(\n\u001b[0m\u001b[1;32m    162\u001b[0m                     \u001b[0mresponse_doc\u001b[0m\u001b[0;34m,\u001b[0m \u001b[0msock_info\u001b[0m\u001b[0;34m.\u001b[0m\u001b[0mmax_wire_version\u001b[0m\u001b[0;34m,\u001b[0m \u001b[0mallowable_errors\u001b[0m\u001b[0;34m,\u001b[0m\u001b[0;34m\u001b[0m\u001b[0;34m\u001b[0m\u001b[0m\n\u001b[1;32m    163\u001b[0m                     parse_write_concern_error=parse_write_concern_error)\n",
      "\u001b[0;32m~/anaconda3/lib/python3.8/site-packages/pymongo/helpers.py\u001b[0m in \u001b[0;36m_check_command_response\u001b[0;34m(response, max_wire_version, allowable_errors, parse_write_concern_error)\u001b[0m\n\u001b[1;32m    165\u001b[0m         \u001b[0;32mraise\u001b[0m \u001b[0mCursorNotFound\u001b[0m\u001b[0;34m(\u001b[0m\u001b[0merrmsg\u001b[0m\u001b[0;34m,\u001b[0m \u001b[0mcode\u001b[0m\u001b[0;34m,\u001b[0m \u001b[0mresponse\u001b[0m\u001b[0;34m,\u001b[0m \u001b[0mmax_wire_version\u001b[0m\u001b[0;34m)\u001b[0m\u001b[0;34m\u001b[0m\u001b[0;34m\u001b[0m\u001b[0m\n\u001b[1;32m    166\u001b[0m \u001b[0;34m\u001b[0m\u001b[0m\n\u001b[0;32m--> 167\u001b[0;31m     \u001b[0;32mraise\u001b[0m \u001b[0mOperationFailure\u001b[0m\u001b[0;34m(\u001b[0m\u001b[0merrmsg\u001b[0m\u001b[0;34m,\u001b[0m \u001b[0mcode\u001b[0m\u001b[0;34m,\u001b[0m \u001b[0mresponse\u001b[0m\u001b[0;34m,\u001b[0m \u001b[0mmax_wire_version\u001b[0m\u001b[0;34m)\u001b[0m\u001b[0;34m\u001b[0m\u001b[0;34m\u001b[0m\u001b[0m\n\u001b[0m\u001b[1;32m    168\u001b[0m \u001b[0;34m\u001b[0m\u001b[0m\n\u001b[1;32m    169\u001b[0m \u001b[0;34m\u001b[0m\u001b[0m\n",
      "\u001b[0;31mOperationFailure\u001b[0m: Index build failed: 2463dde4-f80c-46c9-9523-7bec93ad9224: Collection Headquarters.Vancouver ( c58f2c2a-0b82-4baf-9101-b6e51db7fbe0 ) :: caused by :: Can't extract geo keys: { _id: ObjectId('6192581bee1960c50aeaf397'), nombre: \"Marketing.AI\", latitud: 49.27887604001761, longitud: -123.1194186747484, category: \"Tech Startup\", distance: 319, location: { type: \"Point\", coordinates: [ 49.27887604001761, -123.1194186747484 ] } }  longitude/latitude is out of bounds, lng: 49.2789 lat: -123.119, full error: {'ok': 0.0, 'errmsg': 'Index build failed: 2463dde4-f80c-46c9-9523-7bec93ad9224: Collection Headquarters.Vancouver ( c58f2c2a-0b82-4baf-9101-b6e51db7fbe0 ) :: caused by :: Can\\'t extract geo keys: { _id: ObjectId(\\'6192581bee1960c50aeaf397\\'), nombre: \"Marketing.AI\", latitud: 49.27887604001761, longitud: -123.1194186747484, category: \"Tech Startup\", distance: 319, location: { type: \"Point\", coordinates: [ 49.27887604001761, -123.1194186747484 ] } }  longitude/latitude is out of bounds, lng: 49.2789 lat: -123.119', 'code': 16755, 'codeName': 'Location16755'}"
     ]
    }
   ],
   "source": [
    "db.Vancouver.create_index([(\"location\", GEOSPHERE)])\n",
    "# db.bev.create_index([(\"location\", GEOSPHERE)])\n",
    "# db.irv.create_index([(\"location\", GEOSPHERE)])"
   ]
  },
  {
   "cell_type": "code",
   "execution_count": 56,
   "id": "ac235cff",
   "metadata": {},
   "outputs": [],
   "source": [
    "coord = af.type_point([sim_comp['longitude'][0], sim_comp['latitude'][0]])\n"
   ]
  },
  {
   "cell_type": "code",
   "execution_count": 57,
   "id": "9ab8d622",
   "metadata": {},
   "outputs": [
    {
     "ename": "OperationFailure",
     "evalue": "error processing query: ns=Headquarters.VancouverTree: GEONEAR  field=location maxdist=5000 isNearSphere=0\nSort: {}\nProj: {}\n planner returned error :: caused by :: unable to find index for $geoNear query, full error: {'ok': 0.0, 'errmsg': 'error processing query: ns=Headquarters.VancouverTree: GEONEAR  field=location maxdist=5000 isNearSphere=0\\nSort: {}\\nProj: {}\\n planner returned error :: caused by :: unable to find index for $geoNear query', 'code': 291, 'codeName': 'NoQueryExecutionPlans'}",
     "output_type": "error",
     "traceback": [
      "\u001b[0;31m---------------------------------------------------------------------------\u001b[0m",
      "\u001b[0;31mOperationFailure\u001b[0m                          Traceback (most recent call last)",
      "\u001b[0;32m<ipython-input-57-4cbd23819fcb>\u001b[0m in \u001b[0;36m<module>\u001b[0;34m\u001b[0m\n\u001b[1;32m      1\u001b[0m \u001b[0;31m# query = {\"location\": {\"$near\": {\"$geometry\": coord, \"$maxDistance\": 5000}}}\u001b[0m\u001b[0;34m\u001b[0m\u001b[0;34m\u001b[0m\u001b[0;34m\u001b[0m\u001b[0m\n\u001b[0;32m----> 2\u001b[0;31m \u001b[0mlist\u001b[0m\u001b[0;34m(\u001b[0m\u001b[0mvanc\u001b[0m\u001b[0;34m.\u001b[0m\u001b[0mfind\u001b[0m\u001b[0;34m(\u001b[0m\u001b[0mquery\u001b[0m\u001b[0;34m)\u001b[0m\u001b[0;34m)\u001b[0m\u001b[0;34m\u001b[0m\u001b[0;34m\u001b[0m\u001b[0m\n\u001b[0m",
      "\u001b[0;32m~/anaconda3/lib/python3.8/site-packages/pymongo/cursor.py\u001b[0m in \u001b[0;36mnext\u001b[0;34m(self)\u001b[0m\n\u001b[1;32m   1236\u001b[0m         \u001b[0;32mif\u001b[0m \u001b[0mself\u001b[0m\u001b[0;34m.\u001b[0m\u001b[0m__empty\u001b[0m\u001b[0;34m:\u001b[0m\u001b[0;34m\u001b[0m\u001b[0;34m\u001b[0m\u001b[0m\n\u001b[1;32m   1237\u001b[0m             \u001b[0;32mraise\u001b[0m \u001b[0mStopIteration\u001b[0m\u001b[0;34m\u001b[0m\u001b[0;34m\u001b[0m\u001b[0m\n\u001b[0;32m-> 1238\u001b[0;31m         \u001b[0;32mif\u001b[0m \u001b[0mlen\u001b[0m\u001b[0;34m(\u001b[0m\u001b[0mself\u001b[0m\u001b[0;34m.\u001b[0m\u001b[0m__data\u001b[0m\u001b[0;34m)\u001b[0m \u001b[0;32mor\u001b[0m \u001b[0mself\u001b[0m\u001b[0;34m.\u001b[0m\u001b[0m_refresh\u001b[0m\u001b[0;34m(\u001b[0m\u001b[0;34m)\u001b[0m\u001b[0;34m:\u001b[0m\u001b[0;34m\u001b[0m\u001b[0;34m\u001b[0m\u001b[0m\n\u001b[0m\u001b[1;32m   1239\u001b[0m             \u001b[0;32mif\u001b[0m \u001b[0mself\u001b[0m\u001b[0;34m.\u001b[0m\u001b[0m__manipulate\u001b[0m\u001b[0;34m:\u001b[0m\u001b[0;34m\u001b[0m\u001b[0;34m\u001b[0m\u001b[0m\n\u001b[1;32m   1240\u001b[0m                 \u001b[0m_db\u001b[0m \u001b[0;34m=\u001b[0m \u001b[0mself\u001b[0m\u001b[0;34m.\u001b[0m\u001b[0m__collection\u001b[0m\u001b[0;34m.\u001b[0m\u001b[0mdatabase\u001b[0m\u001b[0;34m\u001b[0m\u001b[0;34m\u001b[0m\u001b[0m\n",
      "\u001b[0;32m~/anaconda3/lib/python3.8/site-packages/pymongo/cursor.py\u001b[0m in \u001b[0;36m_refresh\u001b[0;34m(self)\u001b[0m\n\u001b[1;32m   1153\u001b[0m                                   \u001b[0mself\u001b[0m\u001b[0;34m.\u001b[0m\u001b[0m__allow_disk_use\u001b[0m\u001b[0;34m,\u001b[0m\u001b[0;34m\u001b[0m\u001b[0;34m\u001b[0m\u001b[0m\n\u001b[1;32m   1154\u001b[0m                                   self.__exhaust)\n\u001b[0;32m-> 1155\u001b[0;31m             \u001b[0mself\u001b[0m\u001b[0;34m.\u001b[0m\u001b[0m__send_message\u001b[0m\u001b[0;34m(\u001b[0m\u001b[0mq\u001b[0m\u001b[0;34m)\u001b[0m\u001b[0;34m\u001b[0m\u001b[0;34m\u001b[0m\u001b[0m\n\u001b[0m\u001b[1;32m   1156\u001b[0m         \u001b[0;32melif\u001b[0m \u001b[0mself\u001b[0m\u001b[0;34m.\u001b[0m\u001b[0m__id\u001b[0m\u001b[0;34m:\u001b[0m  \u001b[0;31m# Get More\u001b[0m\u001b[0;34m\u001b[0m\u001b[0;34m\u001b[0m\u001b[0m\n\u001b[1;32m   1157\u001b[0m             \u001b[0;32mif\u001b[0m \u001b[0mself\u001b[0m\u001b[0;34m.\u001b[0m\u001b[0m__limit\u001b[0m\u001b[0;34m:\u001b[0m\u001b[0;34m\u001b[0m\u001b[0;34m\u001b[0m\u001b[0m\n",
      "\u001b[0;32m~/anaconda3/lib/python3.8/site-packages/pymongo/cursor.py\u001b[0m in \u001b[0;36m__send_message\u001b[0;34m(self, operation)\u001b[0m\n\u001b[1;32m   1042\u001b[0m \u001b[0;34m\u001b[0m\u001b[0m\n\u001b[1;32m   1043\u001b[0m         \u001b[0;32mtry\u001b[0m\u001b[0;34m:\u001b[0m\u001b[0;34m\u001b[0m\u001b[0;34m\u001b[0m\u001b[0m\n\u001b[0;32m-> 1044\u001b[0;31m             response = client._run_operation(\n\u001b[0m\u001b[1;32m   1045\u001b[0m                 operation, self._unpack_response, address=self.__address)\n\u001b[1;32m   1046\u001b[0m         \u001b[0;32mexcept\u001b[0m \u001b[0mOperationFailure\u001b[0m \u001b[0;32mas\u001b[0m \u001b[0mexc\u001b[0m\u001b[0;34m:\u001b[0m\u001b[0;34m\u001b[0m\u001b[0;34m\u001b[0m\u001b[0m\n",
      "\u001b[0;32m~/anaconda3/lib/python3.8/site-packages/pymongo/mongo_client.py\u001b[0m in \u001b[0;36m_run_operation\u001b[0;34m(self, operation, unpack_res, address)\u001b[0m\n\u001b[1;32m   1422\u001b[0m                 unpack_res)\n\u001b[1;32m   1423\u001b[0m \u001b[0;34m\u001b[0m\u001b[0m\n\u001b[0;32m-> 1424\u001b[0;31m         return self._retryable_read(\n\u001b[0m\u001b[1;32m   1425\u001b[0m             \u001b[0m_cmd\u001b[0m\u001b[0;34m,\u001b[0m \u001b[0moperation\u001b[0m\u001b[0;34m.\u001b[0m\u001b[0mread_preference\u001b[0m\u001b[0;34m,\u001b[0m \u001b[0moperation\u001b[0m\u001b[0;34m.\u001b[0m\u001b[0msession\u001b[0m\u001b[0;34m,\u001b[0m\u001b[0;34m\u001b[0m\u001b[0;34m\u001b[0m\u001b[0m\n\u001b[1;32m   1426\u001b[0m             address=address, retryable=isinstance(operation, message._Query))\n",
      "\u001b[0;32m~/anaconda3/lib/python3.8/site-packages/pymongo/mongo_client.py\u001b[0m in \u001b[0;36m_retryable_read\u001b[0;34m(self, func, read_pref, session, address, retryable)\u001b[0m\n\u001b[1;32m   1523\u001b[0m                         \u001b[0;31m# not support retryable reads, raise the last error.\u001b[0m\u001b[0;34m\u001b[0m\u001b[0;34m\u001b[0m\u001b[0;34m\u001b[0m\u001b[0m\n\u001b[1;32m   1524\u001b[0m                         \u001b[0;32mraise\u001b[0m \u001b[0mlast_error\u001b[0m\u001b[0;34m\u001b[0m\u001b[0;34m\u001b[0m\u001b[0m\n\u001b[0;32m-> 1525\u001b[0;31m                     \u001b[0;32mreturn\u001b[0m \u001b[0mfunc\u001b[0m\u001b[0;34m(\u001b[0m\u001b[0msession\u001b[0m\u001b[0;34m,\u001b[0m \u001b[0mserver\u001b[0m\u001b[0;34m,\u001b[0m \u001b[0msock_info\u001b[0m\u001b[0;34m,\u001b[0m \u001b[0msecondary_ok\u001b[0m\u001b[0;34m)\u001b[0m\u001b[0;34m\u001b[0m\u001b[0;34m\u001b[0m\u001b[0m\n\u001b[0m\u001b[1;32m   1526\u001b[0m             \u001b[0;32mexcept\u001b[0m \u001b[0mServerSelectionTimeoutError\u001b[0m\u001b[0;34m:\u001b[0m\u001b[0;34m\u001b[0m\u001b[0;34m\u001b[0m\u001b[0m\n\u001b[1;32m   1527\u001b[0m                 \u001b[0;32mif\u001b[0m \u001b[0mretrying\u001b[0m\u001b[0;34m:\u001b[0m\u001b[0;34m\u001b[0m\u001b[0;34m\u001b[0m\u001b[0m\n",
      "\u001b[0;32m~/anaconda3/lib/python3.8/site-packages/pymongo/mongo_client.py\u001b[0m in \u001b[0;36m_cmd\u001b[0;34m(session, server, sock_info, secondary_ok)\u001b[0m\n\u001b[1;32m   1418\u001b[0m \u001b[0;34m\u001b[0m\u001b[0m\n\u001b[1;32m   1419\u001b[0m         \u001b[0;32mdef\u001b[0m \u001b[0m_cmd\u001b[0m\u001b[0;34m(\u001b[0m\u001b[0msession\u001b[0m\u001b[0;34m,\u001b[0m \u001b[0mserver\u001b[0m\u001b[0;34m,\u001b[0m \u001b[0msock_info\u001b[0m\u001b[0;34m,\u001b[0m \u001b[0msecondary_ok\u001b[0m\u001b[0;34m)\u001b[0m\u001b[0;34m:\u001b[0m\u001b[0;34m\u001b[0m\u001b[0;34m\u001b[0m\u001b[0m\n\u001b[0;32m-> 1420\u001b[0;31m             return server.run_operation(\n\u001b[0m\u001b[1;32m   1421\u001b[0m                 \u001b[0msock_info\u001b[0m\u001b[0;34m,\u001b[0m \u001b[0moperation\u001b[0m\u001b[0;34m,\u001b[0m \u001b[0msecondary_ok\u001b[0m\u001b[0;34m,\u001b[0m \u001b[0mself\u001b[0m\u001b[0;34m.\u001b[0m\u001b[0m_event_listeners\u001b[0m\u001b[0;34m,\u001b[0m\u001b[0;34m\u001b[0m\u001b[0;34m\u001b[0m\u001b[0m\n\u001b[1;32m   1422\u001b[0m                 unpack_res)\n",
      "\u001b[0;32m~/anaconda3/lib/python3.8/site-packages/pymongo/server.py\u001b[0m in \u001b[0;36mrun_operation\u001b[0;34m(self, sock_info, operation, set_secondary_okay, listeners, unpack_res)\u001b[0m\n\u001b[1;32m    128\u001b[0m                 \u001b[0mfirst\u001b[0m \u001b[0;34m=\u001b[0m \u001b[0mdocs\u001b[0m\u001b[0;34m[\u001b[0m\u001b[0;36m0\u001b[0m\u001b[0;34m]\u001b[0m\u001b[0;34m\u001b[0m\u001b[0;34m\u001b[0m\u001b[0m\n\u001b[1;32m    129\u001b[0m                 \u001b[0moperation\u001b[0m\u001b[0;34m.\u001b[0m\u001b[0mclient\u001b[0m\u001b[0;34m.\u001b[0m\u001b[0m_process_response\u001b[0m\u001b[0;34m(\u001b[0m\u001b[0mfirst\u001b[0m\u001b[0;34m,\u001b[0m \u001b[0moperation\u001b[0m\u001b[0;34m.\u001b[0m\u001b[0msession\u001b[0m\u001b[0;34m)\u001b[0m\u001b[0;34m\u001b[0m\u001b[0;34m\u001b[0m\u001b[0m\n\u001b[0;32m--> 130\u001b[0;31m                 \u001b[0m_check_command_response\u001b[0m\u001b[0;34m(\u001b[0m\u001b[0mfirst\u001b[0m\u001b[0;34m,\u001b[0m \u001b[0msock_info\u001b[0m\u001b[0;34m.\u001b[0m\u001b[0mmax_wire_version\u001b[0m\u001b[0;34m)\u001b[0m\u001b[0;34m\u001b[0m\u001b[0;34m\u001b[0m\u001b[0m\n\u001b[0m\u001b[1;32m    131\u001b[0m         \u001b[0;32mexcept\u001b[0m \u001b[0mException\u001b[0m \u001b[0;32mas\u001b[0m \u001b[0mexc\u001b[0m\u001b[0;34m:\u001b[0m\u001b[0;34m\u001b[0m\u001b[0;34m\u001b[0m\u001b[0m\n\u001b[1;32m    132\u001b[0m             \u001b[0;32mif\u001b[0m \u001b[0mpublish\u001b[0m\u001b[0;34m:\u001b[0m\u001b[0;34m\u001b[0m\u001b[0;34m\u001b[0m\u001b[0m\n",
      "\u001b[0;32m~/anaconda3/lib/python3.8/site-packages/pymongo/helpers.py\u001b[0m in \u001b[0;36m_check_command_response\u001b[0;34m(response, max_wire_version, allowable_errors, parse_write_concern_error)\u001b[0m\n\u001b[1;32m    165\u001b[0m         \u001b[0;32mraise\u001b[0m \u001b[0mCursorNotFound\u001b[0m\u001b[0;34m(\u001b[0m\u001b[0merrmsg\u001b[0m\u001b[0;34m,\u001b[0m \u001b[0mcode\u001b[0m\u001b[0;34m,\u001b[0m \u001b[0mresponse\u001b[0m\u001b[0;34m,\u001b[0m \u001b[0mmax_wire_version\u001b[0m\u001b[0;34m)\u001b[0m\u001b[0;34m\u001b[0m\u001b[0;34m\u001b[0m\u001b[0m\n\u001b[1;32m    166\u001b[0m \u001b[0;34m\u001b[0m\u001b[0m\n\u001b[0;32m--> 167\u001b[0;31m     \u001b[0;32mraise\u001b[0m \u001b[0mOperationFailure\u001b[0m\u001b[0;34m(\u001b[0m\u001b[0merrmsg\u001b[0m\u001b[0;34m,\u001b[0m \u001b[0mcode\u001b[0m\u001b[0;34m,\u001b[0m \u001b[0mresponse\u001b[0m\u001b[0;34m,\u001b[0m \u001b[0mmax_wire_version\u001b[0m\u001b[0;34m)\u001b[0m\u001b[0;34m\u001b[0m\u001b[0;34m\u001b[0m\u001b[0m\n\u001b[0m\u001b[1;32m    168\u001b[0m \u001b[0;34m\u001b[0m\u001b[0m\n\u001b[1;32m    169\u001b[0m \u001b[0;34m\u001b[0m\u001b[0m\n",
      "\u001b[0;31mOperationFailure\u001b[0m: error processing query: ns=Headquarters.VancouverTree: GEONEAR  field=location maxdist=5000 isNearSphere=0\nSort: {}\nProj: {}\n planner returned error :: caused by :: unable to find index for $geoNear query, full error: {'ok': 0.0, 'errmsg': 'error processing query: ns=Headquarters.VancouverTree: GEONEAR  field=location maxdist=5000 isNearSphere=0\\nSort: {}\\nProj: {}\\n planner returned error :: caused by :: unable to find index for $geoNear query', 'code': 291, 'codeName': 'NoQueryExecutionPlans'}"
     ]
    }
   ],
   "source": [
    "# query = {\"location\": {\"$near\": {\"$geometry\": coord, \"$maxDistance\": 5000}}}\n",
    "list(vanc.find(query))"
   ]
  },
  {
   "cell_type": "code",
   "execution_count": null,
   "id": "9e1316f0",
   "metadata": {},
   "outputs": [],
   "source": [
    "query = {'distance' : {'$lte': 5000}}\n",
    "list(irv.find(query).sort('distance'))"
   ]
  },
  {
   "cell_type": "code",
   "execution_count": null,
   "id": "fcc808f2",
   "metadata": {},
   "outputs": [],
   "source": []
  }
 ],
 "metadata": {
  "kernelspec": {
   "display_name": "ironhack",
   "language": "python",
   "name": "ironhack"
  },
  "language_info": {
   "codemirror_mode": {
    "name": "ipython",
    "version": 3
   },
   "file_extension": ".py",
   "mimetype": "text/x-python",
   "name": "python",
   "nbconvert_exporter": "python",
   "pygments_lexer": "ipython3",
   "version": "3.8.8"
  }
 },
 "nbformat": 4,
 "nbformat_minor": 5
}
