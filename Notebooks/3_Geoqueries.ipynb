{
 "cells": [
  {
   "cell_type": "code",
   "execution_count": null,
   "id": "9f6b3469",
   "metadata": {},
   "outputs": [],
   "source": [
    "#%pip install cartoframes"
   ]
  },
  {
   "cell_type": "code",
   "execution_count": 149,
   "id": "95505772",
   "metadata": {},
   "outputs": [],
   "source": [
    "from pymongo import MongoClient\n",
    "from pymongo import GEOSPHERE\n",
    "import pandas as pd\n",
    "import sys\n",
    "sys.path.append('/mnt/c/Users/cleon/Documents/CAL_CAL/ironhack/Proyectos/Headquarters-Hunt/src')\n",
    "import apifunctions as af\n",
    "import geopandas as gpd\n",
    "from cartoframes.viz import Map, Layer, popup_element\n",
    "import shapely.geometry\n",
    "import json\n",
    "from bson.json_util import dumps\n",
    "import matplotlib\n",
    "import seaborn as sns"
   ]
  },
  {
   "cell_type": "code",
   "execution_count": 2,
   "id": "27cb405b",
   "metadata": {},
   "outputs": [],
   "source": [
    "sim_comp = pd.read_csv('../data/similarcompanies.csv')"
   ]
  },
  {
   "cell_type": "code",
   "execution_count": 16,
   "id": "0b5797bf",
   "metadata": {},
   "outputs": [],
   "source": [
    "client = MongoClient(\"localhost:27017\")\n",
    "db = client.get_database(\"Headquarters\")\n",
    "\n",
    "\n",
    "vanc = db.get_collection(\"Vancouver\")\n",
    "bev = db.get_collection(\"BeverlyHills\")\n",
    "irv = db.get_collection('Irvine')"
   ]
  },
  {
   "cell_type": "code",
   "execution_count": 17,
   "id": "42c613c2",
   "metadata": {},
   "outputs": [],
   "source": [
    "coord = af.type_point([sim_comp['longitude'][1], sim_comp['latitude'][1]])\n"
   ]
  },
  {
   "cell_type": "code",
   "execution_count": 34,
   "id": "1182fc5a",
   "metadata": {},
   "outputs": [],
   "source": [
    "querybev = [{'$geoNear': {'near' : [sim_comp['longitude'][1], sim_comp['latitude'][1]],\n",
    "                      'distanceField': 'distance',\n",
    "                      'maxDistance':2,\n",
    "                      'distanceMultiplier':6371,\n",
    "                      'spherical':True}}]\n",
    "geolocbev = bev.aggregate(querybev)\n",
    "respuesta_jsonbev = json.loads(dumps(geolocbev))"
   ]
  },
  {
   "cell_type": "code",
   "execution_count": 35,
   "id": "0c23538c",
   "metadata": {},
   "outputs": [],
   "source": [
    "queryvan = [{'$geoNear': {'near' : [sim_comp['longitude'][0], sim_comp['latitude'][0]],\n",
    "                      'distanceField': 'distance',\n",
    "                      'maxDistance':2,\n",
    "                      'distanceMultiplier':6371,\n",
    "                      'spherical':True}}]\n",
    "geolocvan = vanc.aggregate(queryvan)\n",
    "respuesta_jsonvan = json.loads(dumps(geolocvan))"
   ]
  },
  {
   "cell_type": "code",
   "execution_count": 36,
   "id": "b5a010a2",
   "metadata": {},
   "outputs": [],
   "source": [
    "queryirv = [{'$geoNear': {'near' : [sim_comp['longitude'][1], sim_comp['latitude'][1]],\n",
    "                      'distanceField': 'distance',\n",
    "                      'maxDistance':2,\n",
    "                      'distanceMultiplier':6371,\n",
    "                      'spherical':True}}]\n",
    "geolocirv = irv.aggregate(queryirv)\n",
    "respuesta_jsonirv = json.loads(dumps(geolocirv))"
   ]
  },
  {
   "cell_type": "code",
   "execution_count": 37,
   "id": "774fae39",
   "metadata": {},
   "outputs": [],
   "source": [
    "resultsbev = pd.DataFrame(respuesta_jsonbev);\n",
    "resultsvanc = pd.DataFrame(respuesta_jsonvan)\n",
    "resultsirv = pd.DataFrame(respuesta_jsonirv)"
   ]
  },
  {
   "cell_type": "code",
   "execution_count": 91,
   "id": "89a89719",
   "metadata": {},
   "outputs": [],
   "source": [
    "onekmvan=resultsvanc.loc[(resultsvanc['distance']<1)]\n",
    "catvan = onekmvan.groupby(onekmvan['category']).mean()"
   ]
  },
  {
   "cell_type": "code",
   "execution_count": 95,
   "id": "133393a8",
   "metadata": {},
   "outputs": [],
   "source": [
    "\n",
    "finalvan = catvan.drop(['Pub','Salad Place','Asian Restaurant', 'Gastropub','Japanese Restaurant', 'Juice Bar', 'Mexican Restaurant', 'Print Shop', 'Restaurant', 'Seafood Restaurant', 'Steakhouse'])"
   ]
  },
  {
   "cell_type": "code",
   "execution_count": 128,
   "id": "ae0ed577",
   "metadata": {},
   "outputs": [],
   "source": [
    "finalvan.to_csv('../data/VancouverData.csv')"
   ]
  },
  {
   "cell_type": "code",
   "execution_count": 135,
   "id": "a3cd9ad9",
   "metadata": {},
   "outputs": [],
   "source": [
    "onekmbev=resultsbev.loc[(resultsbev['distance']<1)]\n",
    "catbev = onekmbev.groupby(onekmbev['category']).mean()\n",
    "finalbev = catbev.drop(['Cocktail Bar', 'Hotel', 'Hotel Bar', 'Lounge', 'Optical Shop', 'Restaurant', 'Steakhouse', 'Whisky Bar', 'Wine Bar', 'Wine Shop'])\n",
    "finalbev.to_csv('../data/BeverlyHillsDatas.csv')"
   ]
  },
  {
   "cell_type": "code",
   "execution_count": 125,
   "id": "1c272046",
   "metadata": {},
   "outputs": [],
   "source": [
    "onekmirv=resultsirv.loc[(resultsirv['distance']>1)]\n",
    "\n",
    "catirv = onekmirv.groupby(onekmirv['category']).mean()\n",
    "finalirv=catirv.loc[['Airport', 'Coffee Shop','Bar','Basketball Stadium', 'Design Studio', 'Elementary School', 'Tech Startup', 'Vegetarian / Vegan Restaurant']]"
   ]
  },
  {
   "cell_type": "code",
   "execution_count": 130,
   "id": "23fc853e",
   "metadata": {},
   "outputs": [],
   "source": [
    "finalirv.to_csv('../data/IrvineData.csv')"
   ]
  },
  {
   "cell_type": "code",
   "execution_count": 114,
   "id": "713deceb",
   "metadata": {},
   "outputs": [],
   "source": [
    "airport=0.5\n",
    "bar=0.7\n",
    "basket=0.2\n",
    "school=0.6\n",
    "startup=0.8\n",
    "vegan= 1\n",
    "starbucks=0.9\n",
    "design = 0.7"
   ]
  },
  {
   "cell_type": "code",
   "execution_count": 117,
   "id": "0bd98042",
   "metadata": {},
   "outputs": [],
   "source": [
    "punvanc = airport*(1/finalvan['distance'][0])+bar*(1/finalvan['distance'][1])+starbucks*(1/finalvan['distance'][2])+design*(1/finalvan['distance'][3])+startup*(1/finalvan['distance'][4])+vegan*(1/finalvan['distance'][5])"
   ]
  },
  {
   "cell_type": "code",
   "execution_count": 118,
   "id": "14d5b587",
   "metadata": {},
   "outputs": [
    {
     "data": {
      "text/plain": [
       "7.2535507199963005"
      ]
     },
     "execution_count": 118,
     "metadata": {},
     "output_type": "execute_result"
    }
   ],
   "source": [
    "punvanc"
   ]
  },
  {
   "cell_type": "code",
   "execution_count": 121,
   "id": "897402e3",
   "metadata": {},
   "outputs": [],
   "source": [
    "punbev = bar*(1/finalbev['distance'][0])+starbucks*(1/finalbev['distance'][1])+design*(1/finalbev['distance'][2])+school*(1/finalbev['distance'][3]) +startup*(1/finalbev['distance'][4]) +vegan*(1/finalbev['distance'][5])"
   ]
  },
  {
   "cell_type": "code",
   "execution_count": 123,
   "id": "e1dd9c22",
   "metadata": {},
   "outputs": [
    {
     "data": {
      "text/plain": [
       "7.399050578810739"
      ]
     },
     "execution_count": 123,
     "metadata": {},
     "output_type": "execute_result"
    }
   ],
   "source": [
    "punbev"
   ]
  },
  {
   "cell_type": "code",
   "execution_count": 126,
   "id": "b4a33ecf",
   "metadata": {},
   "outputs": [],
   "source": [
    "punirv = airport*(1/finalirv['distance'][0]) + starbucks*(1/finalirv['distance'][1]) + bar*(1/finalirv['distance'][2]) + basket*(1/finalirv['distance'][3]) + design*(1/finalirv['distance'][4]) + school*(1/finalirv['distance'][5]) + startup*(1/finalirv['distance'][6]) + vegan*(1/finalirv['distance'][7])\n"
   ]
  },
  {
   "cell_type": "code",
   "execution_count": 127,
   "id": "761d45a3",
   "metadata": {},
   "outputs": [
    {
     "data": {
      "text/plain": [
       "0.07888895968772955"
      ]
     },
     "execution_count": 127,
     "metadata": {},
     "output_type": "execute_result"
    }
   ],
   "source": [
    "punirv"
   ]
  },
  {
   "cell_type": "code",
   "execution_count": 136,
   "id": "8cee6499",
   "metadata": {},
   "outputs": [],
   "source": [
    "resultsbev.to_csv('../data/BeverlyHillsCompleteData.csv')"
   ]
  },
  {
   "cell_type": "code",
   "execution_count": 137,
   "id": "4c4999a5",
   "metadata": {},
   "outputs": [],
   "source": [
    "results = [punvanc, punbev, punirv]"
   ]
  },
  {
   "cell_type": "code",
   "execution_count": null,
   "id": "05d87bbe",
   "metadata": {},
   "outputs": [],
   "source": []
  },
  {
   "cell_type": "code",
   "execution_count": 143,
   "id": "6535feaf",
   "metadata": {},
   "outputs": [],
   "source": [
    "finalresults = [{'Vancouver': punvanc},\n",
    "                {'Beverly Hills': punbev},\n",
    "                {'Irvine': punirv}\n",
    "    \n",
    "               ]"
   ]
  },
  {
   "cell_type": "code",
   "execution_count": 145,
   "id": "70a18c02",
   "metadata": {},
   "outputs": [
    {
     "data": {
      "text/html": [
       "<div>\n",
       "<style scoped>\n",
       "    .dataframe tbody tr th:only-of-type {\n",
       "        vertical-align: middle;\n",
       "    }\n",
       "\n",
       "    .dataframe tbody tr th {\n",
       "        vertical-align: top;\n",
       "    }\n",
       "\n",
       "    .dataframe thead th {\n",
       "        text-align: right;\n",
       "    }\n",
       "</style>\n",
       "<table border=\"1\" class=\"dataframe\">\n",
       "  <thead>\n",
       "    <tr style=\"text-align: right;\">\n",
       "      <th></th>\n",
       "      <th>Vancouver</th>\n",
       "      <th>Beverly Hills</th>\n",
       "      <th>Irvine</th>\n",
       "    </tr>\n",
       "  </thead>\n",
       "  <tbody>\n",
       "    <tr>\n",
       "      <th>0</th>\n",
       "      <td>7.253551</td>\n",
       "      <td>NaN</td>\n",
       "      <td>NaN</td>\n",
       "    </tr>\n",
       "    <tr>\n",
       "      <th>1</th>\n",
       "      <td>NaN</td>\n",
       "      <td>7.399051</td>\n",
       "      <td>NaN</td>\n",
       "    </tr>\n",
       "    <tr>\n",
       "      <th>2</th>\n",
       "      <td>NaN</td>\n",
       "      <td>NaN</td>\n",
       "      <td>0.078889</td>\n",
       "    </tr>\n",
       "  </tbody>\n",
       "</table>\n",
       "</div>"
      ],
      "text/plain": [
       "   Vancouver  Beverly Hills    Irvine\n",
       "0   7.253551            NaN       NaN\n",
       "1        NaN       7.399051       NaN\n",
       "2        NaN            NaN  0.078889"
      ]
     },
     "execution_count": 145,
     "metadata": {},
     "output_type": "execute_result"
    }
   ],
   "source": [
    "pd.DataFrame(finalresults)"
   ]
  },
  {
   "cell_type": "code",
   "execution_count": null,
   "id": "6a00cf8a",
   "metadata": {},
   "outputs": [],
   "source": []
  }
 ],
 "metadata": {
  "kernelspec": {
   "display_name": "ironhack",
   "language": "python",
   "name": "ironhack"
  },
  "language_info": {
   "codemirror_mode": {
    "name": "ipython",
    "version": 3
   },
   "file_extension": ".py",
   "mimetype": "text/x-python",
   "name": "python",
   "nbconvert_exporter": "python",
   "pygments_lexer": "ipython3",
   "version": "3.8.8"
  }
 },
 "nbformat": 4,
 "nbformat_minor": 5
}
