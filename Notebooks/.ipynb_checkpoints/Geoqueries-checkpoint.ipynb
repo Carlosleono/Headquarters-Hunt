{
 "cells": [
  {
   "cell_type": "code",
   "execution_count": null,
   "id": "a60b6fe2",
   "metadata": {},
   "outputs": [],
   "source": [
    "#%pip install cartoframes"
   ]
  },
  {
   "cell_type": "code",
   "execution_count": 13,
   "id": "95505772",
   "metadata": {},
   "outputs": [],
   "source": [
    "from pymongo import MongoClient\n",
    "from pymongo import GEOSPHERE\n",
    "import pandas as pd\n",
    "import sys\n",
    "sys.path.append('/mnt/c/Users/cleon/Documents/CAL_CAL/ironhack/Proyectos/Headquarters-Hunt/src')\n",
    "import apifunctions as af\n",
    "import geopandas as gpd\n",
    "from cartoframes.viz import Map, Layer, popup_element\n",
    "import shapely.geometry\n",
    "import json\n",
    "from bson.json_util import dumps"
   ]
  },
  {
   "cell_type": "code",
   "execution_count": 2,
   "id": "b598d150",
   "metadata": {},
   "outputs": [],
   "source": [
    "sim_comp = pd.read_csv('../data/similarcompanies.csv')"
   ]
  },
  {
   "cell_type": "code",
   "execution_count": 16,
   "id": "95a9205b",
   "metadata": {},
   "outputs": [],
   "source": [
    "client = MongoClient(\"localhost:27017\")\n",
    "db = client.get_database(\"Headquarters\")\n",
    "\n",
    "\n",
    "vanc = db.get_collection(\"Vancouver\")\n",
    "bev = db.get_collection(\"BeverlyHills\")\n",
    "irv = db.get_collection('Irvine')"
   ]
  },
  {
   "cell_type": "code",
   "execution_count": 17,
   "id": "5e68ca9a",
   "metadata": {},
   "outputs": [],
   "source": [
    "coord = af.type_point([sim_comp['longitude'][1], sim_comp['latitude'][1]])\n"
   ]
  },
  {
   "cell_type": "code",
   "execution_count": 34,
   "id": "aa2fb14a",
   "metadata": {},
   "outputs": [],
   "source": [
    "querybev = [{'$geoNear': {'near' : [sim_comp['longitude'][1], sim_comp['latitude'][1]],\n",
    "                      'distanceField': 'distance',\n",
    "                      'maxDistance':2,\n",
    "                      'distanceMultiplier':6371,\n",
    "                      'spherical':True}}]\n",
    "geolocbev = bev.aggregate(querybev)\n",
    "respuesta_jsonbev = json.loads(dumps(geolocbev))"
   ]
  },
  {
   "cell_type": "code",
   "execution_count": 35,
   "id": "727f7c34",
   "metadata": {},
   "outputs": [],
   "source": [
    "queryvan = [{'$geoNear': {'near' : [sim_comp['longitude'][0], sim_comp['latitude'][0]],\n",
    "                      'distanceField': 'distance',\n",
    "                      'maxDistance':2,\n",
    "                      'distanceMultiplier':6371,\n",
    "                      'spherical':True}}]\n",
    "geolocvan = vanc.aggregate(queryvan)\n",
    "respuesta_jsonvan = json.loads(dumps(geolocvan))"
   ]
  },
  {
   "cell_type": "code",
   "execution_count": 36,
   "id": "564e1463",
   "metadata": {},
   "outputs": [],
   "source": [
    "queryirv = [{'$geoNear': {'near' : [sim_comp['longitude'][1], sim_comp['latitude'][1]],\n",
    "                      'distanceField': 'distance',\n",
    "                      'maxDistance':2,\n",
    "                      'distanceMultiplier':6371,\n",
    "                      'spherical':True}}]\n",
    "geolocirv = irv.aggregate(queryirv)\n",
    "respuesta_jsonirv = json.loads(dumps(geolocirv))"
   ]
  },
  {
   "cell_type": "code",
   "execution_count": 37,
   "id": "96277ae0",
   "metadata": {},
   "outputs": [],
   "source": [
    "resultsbev = pd.DataFrame(respuesta_jsonbev);\n",
    "resultsvanc = pd.DataFrame(respuesta_jsonvan)\n",
    "resultsirv = pd.DataFrame(respuesta_jsonirv)"
   ]
  },
  {
   "cell_type": "code",
   "execution_count": 91,
   "id": "9e810583",
   "metadata": {},
   "outputs": [],
   "source": [
    "onekmvan=resultsvanc.loc[(resultsvanc['distance']<1)]\n",
    "catvan = onekmvan.groupby(onekmvan['category']).mean()"
   ]
  },
  {
   "cell_type": "code",
   "execution_count": 95,
   "id": "ee132962",
   "metadata": {},
   "outputs": [],
   "source": [
    "\n",
    "finalvan = catvan.drop(['Pub','Salad Place','Asian Restaurant', 'Gastropub','Japanese Restaurant', 'Juice Bar', 'Mexican Restaurant', 'Print Shop', 'Restaurant', 'Seafood Restaurant', 'Steakhouse'])"
   ]
  },
  {
   "cell_type": "code",
   "execution_count": 128,
   "id": "3484f9c3",
   "metadata": {},
   "outputs": [],
   "source": [
    "finalvan.to_csv('../data/VancouverData.csv')"
   ]
  },
  {
   "cell_type": "code",
   "execution_count": 135,
   "id": "672af87d",
   "metadata": {},
   "outputs": [],
   "source": [
    "onekmbev=resultsbev.loc[(resultsbev['distance']<1)]\n",
    "catbev = onekmbev.groupby(onekmbev['category']).mean()\n",
    "finalbev = catbev.drop(['Cocktail Bar', 'Hotel', 'Hotel Bar', 'Lounge', 'Optical Shop', 'Restaurant', 'Steakhouse', 'Whisky Bar', 'Wine Bar', 'Wine Shop'])\n",
    "finalbev.to_csv('../data/BeverlyHillsDatas.csv')"
   ]
  },
  {
   "cell_type": "code",
   "execution_count": 125,
   "id": "b2c98ceb",
   "metadata": {},
   "outputs": [],
   "source": [
    "onekmirv=resultsirv.loc[(resultsirv['distance']>1)]\n",
    "\n",
    "catirv = onekmirv.groupby(onekmirv['category']).mean()\n",
    "finalirv=catirv.loc[['Airport', 'Coffee Shop','Bar','Basketball Stadium', 'Design Studio', 'Elementary School', 'Tech Startup', 'Vegetarian / Vegan Restaurant']]"
   ]
  },
  {
   "cell_type": "code",
   "execution_count": 130,
   "id": "dd404183",
   "metadata": {},
   "outputs": [],
   "source": [
    "finalirv.to_csv('../data/IrvineData.csv')"
   ]
  },
  {
   "cell_type": "code",
   "execution_count": 114,
   "id": "1f439581",
   "metadata": {},
   "outputs": [],
   "source": [
    "airport=0.5\n",
    "bar=0.7\n",
    "basket=0.2\n",
    "school=0.6\n",
    "startup=0.8\n",
    "vegan= 1\n",
    "starbucks=0.9\n",
    "design = 0.7"
   ]
  },
  {
   "cell_type": "code",
   "execution_count": 117,
   "id": "b7f40c92",
   "metadata": {},
   "outputs": [],
   "source": [
    "punvanc = airport*(1/finalvan['distance'][0])+bar*(1/finalvan['distance'][1])+starbucks*(1/finalvan['distance'][2])+design*(1/finalvan['distance'][3])+startup*(1/finalvan['distance'][4])+vegan*(1/finalvan['distance'][5])"
   ]
  },
  {
   "cell_type": "code",
   "execution_count": 118,
   "id": "6e01b249",
   "metadata": {},
   "outputs": [
    {
     "data": {
      "text/plain": [
       "7.2535507199963005"
      ]
     },
     "execution_count": 118,
     "metadata": {},
     "output_type": "execute_result"
    }
   ],
   "source": [
    "punvanc"
   ]
  },
  {
   "cell_type": "code",
   "execution_count": 121,
   "id": "664b5ef9",
   "metadata": {},
   "outputs": [],
   "source": [
    "punbev = bar*(1/finalbev['distance'][0])+starbucks*(1/finalbev['distance'][1])+design*(1/finalbev['distance'][2])+school*(1/finalbev['distance'][3]) +startup*(1/finalbev['distance'][4]) +vegan*(1/finalbev['distance'][5])"
   ]
  },
  {
   "cell_type": "code",
   "execution_count": 123,
   "id": "33ff9d1b",
   "metadata": {},
   "outputs": [
    {
     "data": {
      "text/plain": [
       "7.399050578810739"
      ]
     },
     "execution_count": 123,
     "metadata": {},
     "output_type": "execute_result"
    }
   ],
   "source": [
    "punbev"
   ]
  },
  {
   "cell_type": "code",
   "execution_count": 126,
   "id": "29cff8e4",
   "metadata": {},
   "outputs": [],
   "source": [
    "punirv = airport*(1/finalirv['distance'][0]) + starbucks*(1/finalirv['distance'][1]) + bar*(1/finalirv['distance'][2]) + basket*(1/finalirv['distance'][3]) + design*(1/finalirv['distance'][4]) + school*(1/finalirv['distance'][5]) + startup*(1/finalirv['distance'][6]) + vegan*(1/finalirv['distance'][7])\n"
   ]
  },
  {
   "cell_type": "code",
   "execution_count": 127,
   "id": "6daf2870",
   "metadata": {},
   "outputs": [
    {
     "data": {
      "text/plain": [
       "0.07888895968772955"
      ]
     },
     "execution_count": 127,
     "metadata": {},
     "output_type": "execute_result"
    }
   ],
   "source": [
    "punirv"
   ]
  },
  {
   "cell_type": "code",
   "execution_count": 136,
   "id": "78a1375d",
   "metadata": {},
   "outputs": [],
   "source": [
    "resultsbev.to_csv('../data/BeverlyHillsCompleteData.csv')"
   ]
  },
  {
   "cell_type": "code",
   "execution_count": null,
   "id": "e90a49ec",
   "metadata": {},
   "outputs": [],
   "source": []
  }
 ],
 "metadata": {
  "kernelspec": {
   "display_name": "ironhack",
   "language": "python",
   "name": "ironhack"
  },
  "language_info": {
   "codemirror_mode": {
    "name": "ipython",
    "version": 3
   },
   "file_extension": ".py",
   "mimetype": "text/x-python",
   "name": "python",
   "nbconvert_exporter": "python",
   "pygments_lexer": "ipython3",
   "version": "3.8.8"
  }
 },
 "nbformat": 4,
 "nbformat_minor": 5
}
