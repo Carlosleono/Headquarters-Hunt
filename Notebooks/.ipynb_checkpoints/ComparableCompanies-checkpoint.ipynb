{
 "cells": [
  {
   "cell_type": "markdown",
   "id": "58beea14",
   "metadata": {},
   "source": [
    "### Lybraries:\n",
    "\n",
    "- Pymongo (MongoClient)"
   ]
  },
  {
   "cell_type": "code",
   "execution_count": 1,
   "id": "a6884b7e",
   "metadata": {},
   "outputs": [
    {
     "name": "stdout",
     "output_type": "stream",
     "text": [
      "Requirement already satisfied: pymongo in /home/cleonortiz/anaconda3/lib/python3.8/site-packages (3.12.1)\n",
      "Note: you may need to restart the kernel to use updated packages.\n"
     ]
    }
   ],
   "source": [
    "%pip install pymongo\n"
   ]
  },
  {
   "cell_type": "code",
   "execution_count": 2,
   "id": "87e8096a",
   "metadata": {},
   "outputs": [],
   "source": [
    "from pymongo import MongoClient\n",
    "import pandas as pd"
   ]
  },
  {
   "cell_type": "markdown",
   "id": "25ce5bbb",
   "metadata": {},
   "source": [
    "### Exploring collection: 'companies' "
   ]
  },
  {
   "cell_type": "markdown",
   "id": "afeeebfa",
   "metadata": {},
   "source": [
    "Calling the collection from MongoCompass"
   ]
  },
  {
   "cell_type": "code",
   "execution_count": 3,
   "id": "1cbe300c",
   "metadata": {},
   "outputs": [],
   "source": [
    "client = MongoClient(\"localhost:27017\")"
   ]
  },
  {
   "cell_type": "code",
   "execution_count": 4,
   "id": "603e5fc3",
   "metadata": {},
   "outputs": [],
   "source": [
    "db = client.get_database(\"ironhack\")"
   ]
  },
  {
   "cell_type": "code",
   "execution_count": 5,
   "id": "d20e5d9b",
   "metadata": {},
   "outputs": [],
   "source": [
    "c = db.get_collection(\"companies\")"
   ]
  },
  {
   "cell_type": "markdown",
   "id": "bd91cec5",
   "metadata": {},
   "source": [
    "Searching for similar companies. Ideally: gaming, less than 100 employees, startups (less than five years since founding, collection was updated in 2013), web...\n",
    "This way we will select the three that are more similar and explore their cities to match the conditions."
   ]
  },
  {
   "cell_type": "code",
   "execution_count": 6,
   "id": "385bbd33",
   "metadata": {},
   "outputs": [],
   "source": [
    "#We are going to stablish several conditions to find comparable companies, and realize querys to find the most similar ones\n",
    "cond = {'founded_year':{'$gt':2008}}\n",
    "cond1 = {'number_of_employees':{'$lte':100}}\n",
    "cond6 = {'number_of_employees':{'$lte':100}}\n",
    "cond2 ={'category_code': 'games_video'}\n",
    "cond3 = {'category_code':'web'}\n",
    "cond4 = {'category_code':'software'}\n",
    "cond5 = {'category_code': 'mobile'}\n",
    "cond6 = {'number_of_employees':{'$gte':30}}\n",
    "\n",
    "#query = {'$and':[{'$or':[cond2,cond3,cond4,cond5]},cond, cond1,cond6]}\n",
    "query = {'$and':[cond2,cond, cond1,cond6]}\n",
    "\n",
    "proy = {'_id':0,'name':1, 'number_of_employees':1, 'founded_year':1, 'category_code' : 1, 'offices.city':1}\n",
    "\n",
    "companies=list(c.find(query,proy).sort('offices.0.city',-1))"
   ]
  },
  {
   "cell_type": "markdown",
   "id": "caf8ea3c",
   "metadata": {},
   "source": [
    "Lot of the companies found dont have the city information, so we are going to get the ones that have it"
   ]
  },
  {
   "cell_type": "code",
   "execution_count": 7,
   "id": "385f9e24",
   "metadata": {},
   "outputs": [],
   "source": [
    "comparables = []\n",
    "for i in companies:\n",
    "    if len(i) > 4:\n",
    "        comparables.append(i)"
   ]
  },
  {
   "cell_type": "code",
   "execution_count": 8,
   "id": "edb779c6",
   "metadata": {},
   "outputs": [],
   "source": [
    "sim_comp = pd.DataFrame(comparables)\n"
   ]
  },
  {
   "cell_type": "code",
   "execution_count": 9,
   "id": "01f65564",
   "metadata": {},
   "outputs": [
    {
     "data": {
      "text/html": [
       "<div>\n",
       "<style scoped>\n",
       "    .dataframe tbody tr th:only-of-type {\n",
       "        vertical-align: middle;\n",
       "    }\n",
       "\n",
       "    .dataframe tbody tr th {\n",
       "        vertical-align: top;\n",
       "    }\n",
       "\n",
       "    .dataframe thead th {\n",
       "        text-align: right;\n",
       "    }\n",
       "</style>\n",
       "<table border=\"1\" class=\"dataframe\">\n",
       "  <thead>\n",
       "    <tr style=\"text-align: right;\">\n",
       "      <th></th>\n",
       "      <th>name</th>\n",
       "      <th>category_code</th>\n",
       "      <th>number_of_employees</th>\n",
       "      <th>founded_year</th>\n",
       "      <th>offices</th>\n",
       "    </tr>\n",
       "  </thead>\n",
       "  <tbody>\n",
       "    <tr>\n",
       "      <th>0</th>\n",
       "      <td>Tiny Speck</td>\n",
       "      <td>games_video</td>\n",
       "      <td>45</td>\n",
       "      <td>2009</td>\n",
       "      <td>[{'city': 'Vancouver'}]</td>\n",
       "    </tr>\n",
       "    <tr>\n",
       "      <th>1</th>\n",
       "      <td>Social Gaming Network</td>\n",
       "      <td>games_video</td>\n",
       "      <td>100</td>\n",
       "      <td>2011</td>\n",
       "      <td>[{'city': 'Los Angeles'}, {'city': 'Beverly Hi...</td>\n",
       "    </tr>\n",
       "    <tr>\n",
       "      <th>2</th>\n",
       "      <td>OneScreen</td>\n",
       "      <td>games_video</td>\n",
       "      <td>60</td>\n",
       "      <td>2009</td>\n",
       "      <td>[{'city': 'Irvine'}]</td>\n",
       "    </tr>\n",
       "  </tbody>\n",
       "</table>\n",
       "</div>"
      ],
      "text/plain": [
       "                    name category_code  number_of_employees  founded_year  \\\n",
       "0             Tiny Speck   games_video                   45          2009   \n",
       "1  Social Gaming Network   games_video                  100          2011   \n",
       "2              OneScreen   games_video                   60          2009   \n",
       "\n",
       "                                             offices  \n",
       "0                            [{'city': 'Vancouver'}]  \n",
       "1  [{'city': 'Los Angeles'}, {'city': 'Beverly Hi...  \n",
       "2                               [{'city': 'Irvine'}]  "
      ]
     },
     "execution_count": 9,
     "metadata": {},
     "output_type": "execute_result"
    }
   ],
   "source": [
    "sim_comp"
   ]
  },
  {
   "cell_type": "markdown",
   "id": "c19e3863",
   "metadata": {},
   "source": [
    "### Our three cities are\n",
    "    - Vancouver for Tiny Speck\n",
    "    - Beverly Hills for Social Gaming Network\n",
    "    - Irvine  for OneScreen"
   ]
  },
  {
   "cell_type": "code",
   "execution_count": 13,
   "id": "d26ebc60",
   "metadata": {},
   "outputs": [],
   "source": [
    "sim_comp['latitude'] = [49.3023, 34.069722, 33.669445]"
   ]
  },
  {
   "cell_type": "code",
   "execution_count": 14,
   "id": "a14485e6",
   "metadata": {},
   "outputs": [],
   "source": [
    "sim_comp['longitude'] = [-123.107, -118.405556, -117.823059]"
   ]
  },
  {
   "cell_type": "code",
   "execution_count": 19,
   "id": "6840d1d5",
   "metadata": {},
   "outputs": [],
   "source": [
    "sim_comp.to_csv('../data/similarcompanies.csv')"
   ]
  },
  {
   "cell_type": "code",
   "execution_count": null,
   "id": "80373b27",
   "metadata": {},
   "outputs": [],
   "source": []
  }
 ],
 "metadata": {
  "kernelspec": {
   "display_name": "ironhack",
   "language": "python",
   "name": "ironhack"
  },
  "language_info": {
   "codemirror_mode": {
    "name": "ipython",
    "version": 3
   },
   "file_extension": ".py",
   "mimetype": "text/x-python",
   "name": "python",
   "nbconvert_exporter": "python",
   "pygments_lexer": "ipython3",
   "version": "3.8.8"
  }
 },
 "nbformat": 4,
 "nbformat_minor": 5
}
