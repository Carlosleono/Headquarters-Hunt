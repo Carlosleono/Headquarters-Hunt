{
 "cells": [
  {
   "cell_type": "code",
   "execution_count": 1,
   "id": "042bd800",
   "metadata": {},
   "outputs": [],
   "source": [
    "from dotenv import load_dotenv\n",
    "import os\n",
    "import pandas as pd\n",
    "import requests\n",
    "import sys\n",
    "sys.path.append('/mnt/c/Users/cleon/Documents/CAL_CAL/ironhack/Proyectos/Headquarters-Hunt/src')\n",
    "import apifunctions as af\n",
    "from pymongo import MongoClient"
   ]
  },
  {
   "cell_type": "code",
   "execution_count": 2,
   "id": "61961094",
   "metadata": {},
   "outputs": [
    {
     "data": {
      "text/plain": [
       "True"
      ]
     },
     "execution_count": 2,
     "metadata": {},
     "output_type": "execute_result"
    }
   ],
   "source": [
    "load_dotenv()"
   ]
  },
  {
   "cell_type": "code",
   "execution_count": 3,
   "id": "6b00f4e1",
   "metadata": {},
   "outputs": [],
   "source": [
    "client_id = os.getenv(\"tok1\")\n",
    "client_secret = os.getenv(\"tok2\")"
   ]
  },
  {
   "cell_type": "code",
   "execution_count": 4,
   "id": "bcbccfdd",
   "metadata": {},
   "outputs": [],
   "source": [
    "sim_comp = pd.read_csv('../data/similarcompanies.csv')"
   ]
  },
  {
   "cell_type": "code",
   "execution_count": 5,
   "id": "f50e0f3e",
   "metadata": {},
   "outputs": [],
   "source": [
    "cities = {\n",
    "    'Vancouver': [sim_comp['latitude'][0], sim_comp['longitude'][0]],\n",
    "    'BeverlyH' : [sim_comp['latitude'][1], sim_comp['longitude'][1]],\n",
    "    'Irvine': [sim_comp['latitude'][2], sim_comp['longitude'][2]]\n",
    "}"
   ]
  },
  {
   "cell_type": "code",
   "execution_count": 6,
   "id": "6b421738",
   "metadata": {},
   "outputs": [],
   "source": [
    "techstartups = '4bf58dd8d48988d125941735'\n",
    "vegans = '4bf58dd8d48988d1d3941735'\n",
    "airport = '4bf58dd8d48988d1ed931735'\n",
    "designstudio = '4bf58dd8d48988d1f4941735'\n",
    "elemschool = '4f4533804b9074f6e4fb0105'\n",
    "bar = '4bf58dd8d48988d116941735'\n",
    "basketstad = '4bf58dd8d48988d18b941735'\n",
    "\n",
    "venues = [techstartups, vegans, airport, designstudio, elemschool, bar, basketstad]"
   ]
  },
  {
   "cell_type": "code",
   "execution_count": 7,
   "id": "67c07919",
   "metadata": {},
   "outputs": [],
   "source": [
    "Vancouver = []\n",
    "BeverlyH = []\n",
    "Irvine = []\n",
    "radius = 2000\n",
    "\n",
    "for k,v in cities.items():\n",
    "    if k == 'Vancouver':\n",
    "        for cat in venues:\n",
    "            Vancouver.append(af.foursquare(v[0],v[1], cat,radius))\n",
    "        Vancouver.append(af.foursquarequery(v[0],v[1], 'Starbucks',radius))\n",
    "    elif k == 'BeverlyH':\n",
    "        for cat in venues:\n",
    "            BeverlyH.append(af.foursquare(v[0],v[1], cat,radius))\n",
    "        BeverlyH.append(af.foursquarequery(v[0],v[1], 'Starbucks',radius))\n",
    "    elif k == 'Irvine':\n",
    "        for cat in venues:\n",
    "            Irvine.append(af.foursquare(v[0],v[1], cat,radius))\n",
    "        Irvine.append(af.foursquarequery(v[0],v[1], 'Starbucks',radius))"
   ]
  },
  {
   "cell_type": "markdown",
   "id": "87b99fec",
   "metadata": {},
   "source": [
    "## Now, we export the data of each city to a collection in Mongo\n"
   ]
  },
  {
   "cell_type": "code",
   "execution_count": 8,
   "id": "e66eb77a",
   "metadata": {},
   "outputs": [],
   "source": [
    "client = MongoClient(\"localhost:27017\")\n",
    "db = client.get_database(\"Headquarters\")\n",
    "# db.create_collection(\"Vancouver\")\n",
    "# db.create_collection(\"BeverlyHills\")\n",
    "# db.create_collection(\"Irvine\")"
   ]
  },
  {
   "cell_type": "code",
   "execution_count": 9,
   "id": "62af14b5",
   "metadata": {},
   "outputs": [
    {
     "data": {
      "text/plain": [
       "['BeverlyHills', 'Vancouver', 'Irvine']"
      ]
     },
     "execution_count": 9,
     "metadata": {},
     "output_type": "execute_result"
    }
   ],
   "source": [
    "db.list_collection_names()"
   ]
  },
  {
   "cell_type": "code",
   "execution_count": 10,
   "id": "145bd1b2",
   "metadata": {},
   "outputs": [],
   "source": [
    "v = db.get_collection(\"Vancouver\")\n",
    "b = db.get_collection(\"BeverlyHills\")\n",
    "i = db.get_collection(\"Irvine\")"
   ]
  },
  {
   "cell_type": "code",
   "execution_count": 11,
   "id": "8d191ff9",
   "metadata": {},
   "outputs": [
    {
     "data": {
      "text/plain": [
       "7"
      ]
     },
     "execution_count": 11,
     "metadata": {},
     "output_type": "execute_result"
    }
   ],
   "source": [
    "len(venues)"
   ]
  },
  {
   "cell_type": "code",
   "execution_count": 12,
   "id": "cc4bbd84",
   "metadata": {},
   "outputs": [
    {
     "name": "stdout",
     "output_type": "stream",
     "text": [
      "No 4f4533804b9074f6e4fb0105 in Vancouver\n",
      "No 4bf58dd8d48988d18b941735 in Vancouver\n",
      "No 4f4533804b9074f6e4fb0105 in Beverly Hills\n",
      "No 4bf58dd8d48988d18b941735 in Beverly Hills\n",
      "No 4f4533804b9074f6e4fb0105 in Irvine\n",
      "No 4bf58dd8d48988d18b941735 in Irvine\n"
     ]
    }
   ],
   "source": [
    "for k in range(len(venues)+1):\n",
    "    try:\n",
    "        v.insert_many(Vancouver[k])\n",
    "    except:\n",
    "        print(f'No {venues[k]} in Vancouver')\n",
    "        \n",
    "for k in range(len(venues)):\n",
    "    try:\n",
    "        b.insert_many(Vancouver[k])\n",
    "    except:\n",
    "        print(f'No {venues[k]} in Beverly Hills')\n",
    "        \n",
    "for k in range(len(venues)):\n",
    "    try:\n",
    "        i.insert_many(Vancouver[k])\n",
    "    except:\n",
    "        print(f'No {venues[k]} in Irvine')"
   ]
  },
  {
   "cell_type": "markdown",
   "id": "3be94414",
   "metadata": {},
   "source": [
    "There aren't basketball courts nor elementary schools in either of our cities"
   ]
  },
  {
   "cell_type": "code",
   "execution_count": null,
   "id": "4873ee7c",
   "metadata": {},
   "outputs": [],
   "source": []
  }
 ],
 "metadata": {
  "kernelspec": {
   "display_name": "ironhack",
   "language": "python",
   "name": "ironhack"
  },
  "language_info": {
   "codemirror_mode": {
    "name": "ipython",
    "version": 3
   },
   "file_extension": ".py",
   "mimetype": "text/x-python",
   "name": "python",
   "nbconvert_exporter": "python",
   "pygments_lexer": "ipython3",
   "version": "3.8.8"
  }
 },
 "nbformat": 4,
 "nbformat_minor": 5
}
